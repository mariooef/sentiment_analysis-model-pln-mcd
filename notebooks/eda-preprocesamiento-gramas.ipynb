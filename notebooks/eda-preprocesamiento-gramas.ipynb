{
 "cells": [
  {
   "cell_type": "code",
   "execution_count": 1,
   "metadata": {},
   "outputs": [],
   "source": [
    "import pandas as pd\n",
    "import nltk\n",
    "import re\n",
    "import unicodedata\n",
    "from nltk import word_tokenize\n",
    "from nltk import bigrams, trigrams, skipgrams\n",
    "from nltk.util import ngrams\n",
    "from nltk.corpus import stopwords\n",
    "from nltk.stem import WordNetLemmatizer\n",
    "from collections import defaultdict"
   ]
  },
  {
   "cell_type": "code",
   "execution_count": 2,
   "metadata": {},
   "outputs": [],
   "source": [
    "# Cargando el dataset\n",
    "df = pd.read_csv('../data/train/train.csv')"
   ]
  },
  {
   "cell_type": "code",
   "execution_count": 3,
   "metadata": {},
   "outputs": [
    {
     "data": {
      "text/plain": [
       "0       \"Las famosas momias de Guanajuato. El museo en...\n",
       "1       \"Allí puedes encontrar comida o souvenirs. Es ...\n",
       "2       \"Es tardado entrar al museo, una vez dentro no...\n",
       "3       \"Entiendo que a muchos les cautive o llamé la ...\n",
       "4       \"La fruta y verdura son poco frescos, al igual...\n",
       "                              ...                        \n",
       "4412    \"This university is famous because of its beau...\n",
       "4413    \"Lo que no me gusto fue la comida, pero es muy...\n",
       "4414    Esta excelente para pasar a sentarse unos minu...\n",
       "4415    \"No tuvimos la fortuna de entrar a verlo, ya q...\n",
       "4416    \"Excelente cuidado de las momias y en museos, ...\n",
       "Name: Opinion, Length: 4417, dtype: object"
      ]
     },
     "execution_count": 3,
     "metadata": {},
     "output_type": "execute_result"
    }
   ],
   "source": [
    "df['Opinion']"
   ]
  },
  {
   "cell_type": "markdown",
   "metadata": {},
   "source": [
    "## Limpieza  y tratamiento del texto de la Opinion"
   ]
  },
  {
   "cell_type": "code",
   "execution_count": 4,
   "metadata": {},
   "outputs": [],
   "source": [
    "# Reemplazando NaN en la columna Opinion con una cadena vacía\n",
    "df['Opinion'] = df['Opinion'].fillna('')"
   ]
  },
  {
   "cell_type": "code",
   "execution_count": 5,
   "metadata": {},
   "outputs": [],
   "source": [
    "words = nltk.word_tokenize(' '.join(df['Opinion']))"
   ]
  },
  {
   "cell_type": "code",
   "execution_count": 6,
   "metadata": {},
   "outputs": [
    {
     "name": "stdout",
     "output_type": "stream",
     "text": [
      "[('``', 'Las', 'famosas'), ('Las', 'famosas', 'momias'), ('famosas', 'momias', 'de'), ('momias', 'de', 'Guanajuato'), ('de', 'Guanajuato', '.'), ('Guanajuato', '.', 'El'), ('.', 'El', 'museo'), ('El', 'museo', 'en'), ('museo', 'en', 'sí'), ('en', 'sí', 'es')]\n"
     ]
    }
   ],
   "source": [
    "tri_grams = list(trigrams(words))\n",
    "\n",
    "print(tri_grams[:10])"
   ]
  },
  {
   "cell_type": "code",
   "execution_count": 7,
   "metadata": {},
   "outputs": [],
   "source": [
    "def eliminar_acentos(texto):\n",
    "    # Normalizamos el texto a la forma 'NFD' que separa los caracteres Unicode y sus diacríticos\n",
    "    texto_normalizado = unicodedata.normalize('NFD', texto)\n",
    "    # Filtramos todos los caracteres que no sean diacríticos (es decir, eliminamos los acentos)\n",
    "    texto_sin_acentos = ''.join(c for c in texto_normalizado if unicodedata.category(c) != 'Mn')\n",
    "    return texto_sin_acentos"
   ]
  },
  {
   "cell_type": "code",
   "execution_count": 8,
   "metadata": {},
   "outputs": [],
   "source": [
    "# Preprocesamiento de texto\n",
    "def preprocess_text(text, remove_stopwords=False, lemmatize=False, include_punctuation=False, remove_special_chars_numbers=False, remove_other_x_chars=False):\n",
    "    \n",
    "    text = str(text).lower()\n",
    "\n",
    "     # Eliminar caracteres especiales si remove_special_chars es True\n",
    "    if remove_special_chars_numbers:\n",
    "      texto_sin_acentos = eliminar_acentos(text)\n",
    "\n",
    "      # Utilizamos re.sub() para dejar solo las letras y los espacios\n",
    "      text = re.sub(r\"[^a-zA-Z\\s]\", \"\", texto_sin_acentos)\n",
    "\n",
    "    if remove_other_x_chars:\n",
    "      text = re.sub(r'\\b\\w\\b\\s*', '', text)\n",
    "    \n",
    "    # Tokenización\n",
    "    tokens = word_tokenize(text)\n",
    "\n",
    "    # Eliminar signos de puntuación si include_punctuation es False\n",
    "    if not include_punctuation:\n",
    "        tokens = [word for word in tokens if word.isalnum()]\n",
    "\n",
    "    # Eliminar stopwords\n",
    "    if remove_stopwords:\n",
    "        stop_words_english = set(stopwords.words('english'))\n",
    "        tokens = [word for word in tokens if word.isalnum() and word not in stop_words_english]\n",
    "\n",
    "        stop_words_spanish = set(stopwords.words('spanish'))\n",
    "        tokens = [word for word in tokens if word.isalnum() and word not in stop_words_spanish]\n",
    "    \n",
    "    # Lematización\n",
    "    if lemmatize:\n",
    "        lemmatizer = WordNetLemmatizer()\n",
    "        tokens = [lemmatizer.lemmatize(word) for word in tokens]\n",
    "\n",
    "    return tokens"
   ]
  }
 ],
 "metadata": {
  "kernelspec": {
   "display_name": "Python 3",
   "language": "python",
   "name": "python3"
  },
  "language_info": {
   "codemirror_mode": {
    "name": "ipython",
    "version": 3
   },
   "file_extension": ".py",
   "mimetype": "text/x-python",
   "name": "python",
   "nbconvert_exporter": "python",
   "pygments_lexer": "ipython3",
   "version": "3.12.0"
  }
 },
 "nbformat": 4,
 "nbformat_minor": 2
}
