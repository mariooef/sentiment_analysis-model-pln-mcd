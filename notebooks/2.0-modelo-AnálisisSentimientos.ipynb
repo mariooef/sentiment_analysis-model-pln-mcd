{
 "cells": [
  {
   "cell_type": "markdown",
   "metadata": {},
   "source": [
    "# Modelo para Análisis de sentimientos"
   ]
  },
  {
   "cell_type": "markdown",
   "metadata": {},
   "source": [
    "### Importando librerías"
   ]
  },
  {
   "cell_type": "code",
   "execution_count": 61,
   "metadata": {},
   "outputs": [
    {
     "name": "stderr",
     "output_type": "stream",
     "text": [
      "[nltk_data] Downloading package punkt to\n",
      "[nltk_data]     C:\\Users\\lordm\\AppData\\Roaming\\nltk_data...\n",
      "[nltk_data]   Package punkt is already up-to-date!\n"
     ]
    },
    {
     "data": {
      "text/plain": [
       "True"
      ]
     },
     "execution_count": 61,
     "metadata": {},
     "output_type": "execute_result"
    }
   ],
   "source": [
    "import pandas as pd\n",
    "\n",
    "import spacy\n",
    "\n",
    "import nltk\n",
    "from nltk.corpus import stopwords\n",
    "from nltk import bigrams, trigrams, ngrams\n",
    "from collections import defaultdict\n",
    "from string import punctuation\n",
    "\n",
    "from sklearn.metrics import f1_score\n",
    "\n",
    "from sklearn.metrics import confusion_matrix, ConfusionMatrixDisplay\n",
    "import matplotlib.pyplot as plt\n",
    "\n",
    "from sklearn.metrics import classification_report\n",
    "from nltk import word_tokenize\n",
    "from nltk.stem import WordNetLemmatizer\n",
    "\n",
    "nltk.download('punkt')"
   ]
  },
  {
   "cell_type": "markdown",
   "metadata": {},
   "source": [
    "### Funciones"
   ]
  },
  {
   "cell_type": "code",
   "execution_count": 87,
   "metadata": {},
   "outputs": [],
   "source": [
    "def generador_tokens(text, remove_stopwords=False, lemmatize=False, include_punctuation=False):\n",
    "\n",
    "    # Tokenización\n",
    "    tokens = word_tokenize(text)\n",
    "\n",
    "    # Eliminar signos de puntuación\n",
    "    if include_punctuation:\n",
    "        punctuations = list(punctuation)\n",
    "        tokens = [word for word in tokens if word.isalnum() and word not in punctuations]\n",
    "\n",
    "    # Eliminar stopwords\n",
    "    if remove_stopwords:\n",
    "        stop_words = set(stopwords.words('spanish'))\n",
    "        tokens = [word for word in tokens if word.isalnum() and word not in stop_words]\n",
    "    \n",
    "    # Lematización\n",
    "    if lemmatize:\n",
    "        lemmatizer = WordNetLemmatizer()\n",
    "        tokens = [lemmatizer.lemmatize(word) for word in tokens]\n",
    "\n",
    "    return tokens\n",
    "\n",
    "def generador_grama(df, n, remove_stopwords=False, lemmatize=False, remove_punctuation=False):\n",
    "  gram_generate = defaultdict(int)\n",
    "\n",
    "  # Procesando cada opinión\n",
    "  for row in df:\n",
    "      opinion = row\n",
    "      \n",
    "      # Preprocesando el texto de la opinión y generador de tokens\n",
    "      tokens = generador_tokens(opinion, remove_stopwords, lemmatize, remove_punctuation)\n",
    "        \n",
    "      # Generando trigramas\n",
    "      n_grams = ngrams(tokens, n)\n",
    "        \n",
    "      # Actualizando el puntaje de los trigramas\n",
    "      for gram in n_grams:\n",
    "        gram_generate[gram] += 1\n",
    "  \n",
    "  return gram_generate\n",
    "\n",
    "# Evaluación de un texto\n",
    "# Regresa un score donde se suman las frecuencias de los n-gramas positivos y se restan las frecuencias de los n-gramas negativos\n",
    "def evaluar_texto(texto, frec_positivos, frec_negativos, n):\n",
    "    \n",
    "    punctuations = list(punctuation)\n",
    "\n",
    "    score = 0\n",
    "\n",
    "    # Tokenización con NLTK\n",
    "    words = [t for t in nltk.word_tokenize(texto) if t not in punctuations]\n",
    "    #print(words)\n",
    "\n",
    "    for n_grama in ngrams(words, n):\n",
    "        score += frec_positivos[n_grama]\n",
    "        score -= frec_negativos[n_grama]\n",
    "        #print(n_grama, \"+\", frec_positivos[n_grama], \"-\", frec_negativos[n_grama])     \n",
    "    return score\n",
    "\n",
    "\n",
    "# Clasificación del score\n",
    "def clasificar(score):\n",
    "    if score >= 0:  #Positivo\n",
    "        return 1\n",
    "    else:\n",
    "        return 0    #Negativo"
   ]
  },
  {
   "cell_type": "markdown",
   "metadata": {},
   "source": [
    "### Entrenamiento"
   ]
  },
  {
   "cell_type": "code",
   "execution_count": 88,
   "metadata": {},
   "outputs": [],
   "source": [
    "# Número de n-gramas\n",
    "n = 4\n",
    "\n",
    "train = pd.read_csv('../data/processed/train.csv', index_col=[0], parse_dates=['Date'], dayfirst=True)\n",
    "\n",
    "val = pd.read_csv('../data/processed/val.csv', index_col=[0], parse_dates=['Date'], dayfirst=True)\n",
    "\n",
    "train_opiniones_positivas = train[train['Label'] == 1]['Opinion']\n",
    "\n",
    "train_opiniones_negativas = train[train['Label'] == 0]['Opinion']\n",
    "\n",
    "# Modelo de conteos de n_gramas\n",
    "frec_positivos = defaultdict(int) \n",
    "frec_negativos = defaultdict(int) \n",
    "\n",
    "frec_positivos = generador_grama(train_opiniones_positivas, n, remove_stopwords=True, lemmatize=True,remove_punctuation=True)\n",
    "frec_negativos = generador_grama(train_opiniones_negativas, n, remove_stopwords=True, lemmatize=True,remove_punctuation=True)"
   ]
  },
  {
   "cell_type": "markdown",
   "metadata": {},
   "source": [
    "### Evaluación"
   ]
  },
  {
   "cell_type": "code",
   "execution_count": 89,
   "metadata": {},
   "outputs": [
    {
     "data": {
      "text/plain": [
       "0"
      ]
     },
     "execution_count": 89,
     "metadata": {},
     "output_type": "execute_result"
    }
   ],
   "source": [
    "texto = 'hay una leyenda acerca de este lugar que me parece la de\\nromeo y julieta de guanajuato, no la cuento completapara \\nque quieran llegar, a mi me parecio muy romantica y este\\nlugar debe ser un sitio obligatorio para todas las parejas que\\nvisiten guanajuato, así atraeran sus siete años de buena\\nsuerte'\n",
    "evaluar_texto(texto, frec_positivos, frec_negativos, n)"
   ]
  },
  {
   "cell_type": "code",
   "execution_count": 90,
   "metadata": {},
   "outputs": [],
   "source": [
    "# Copia del conjunto de validación\n",
    "df_val_opiniones = val.copy()\n",
    "\n",
    "df_val_opiniones['Score'] = df_val_opiniones['Opinion'].apply(lambda x: evaluar_texto(x, frec_positivos, frec_negativos, n))\n",
    "df_val_opiniones['Clasificación'] = df_val_opiniones['Score'].apply(clasificar)\n"
   ]
  },
  {
   "cell_type": "code",
   "execution_count": 91,
   "metadata": {},
   "outputs": [
    {
     "name": "stdout",
     "output_type": "stream",
     "text": [
      "F1 Score: 0.9029430181590481\n"
     ]
    }
   ],
   "source": [
    "from sklearn.metrics import f1_score\n",
    "\n",
    "f1_score = f1_score(df_val_opiniones['Label'], df_val_opiniones['Clasificación'])\n",
    "\n",
    "print(f'F1 Score:', f1_score)"
   ]
  },
  {
   "cell_type": "code",
   "execution_count": 85,
   "metadata": {},
   "outputs": [
    {
     "data": {
      "image/png": "[encoded data removed]",
      "text/plain": [
       "<Figure size 640x480 with 2 Axes>"
      ]
     },
     "metadata": {},
     "output_type": "display_data"
    }
   ],
   "source": [
    "# Plot matriz de confusión\n",
    "from sklearn.metrics import confusion_matrix, ConfusionMatrixDisplay\n",
    "import matplotlib.pyplot as plt\n",
    "\n",
    "cm = confusion_matrix(df_val_opiniones['Label'], df_val_opiniones['Clasificación'])\n",
    "disp = ConfusionMatrixDisplay(confusion_matrix=cm)\n",
    "disp.plot()\n",
    "plt.xlabel('Predicción')\n",
    "plt.ylabel('Valor real')\n",
    "plt.show()"
   ]
  },
  {
   "cell_type": "code",
   "execution_count": 28,
   "metadata": {},
   "outputs": [
    {
     "name": "stdout",
     "output_type": "stream",
     "text": [
      "              precision    recall  f1-score   support\n",
      "\n",
      "           0       0.59      0.12      0.20       154\n",
      "           1       0.84      0.98      0.91       723\n",
      "\n",
      "    accuracy                           0.83       877\n",
      "   macro avg       0.72      0.55      0.55       877\n",
      "weighted avg       0.80      0.83      0.78       877\n",
      "\n"
     ]
    }
   ],
   "source": [
    "print(classification_report(df_val_opiniones['Label'], df_val_opiniones['Clasificación']))"
   ]
  },
  {
   "cell_type": "code",
   "execution_count": 29,
   "metadata": {},
   "outputs": [
    {
     "data": {
      "text/plain": [
       "Clasificación\n",
       "1    845\n",
       "0     32\n",
       "Name: count, dtype: int64"
      ]
     },
     "execution_count": 29,
     "metadata": {},
     "output_type": "execute_result"
    }
   ],
   "source": [
    "df_val_opiniones['Clasificación'].value_counts()"
   ]
  },
  {
   "cell_type": "code",
   "execution_count": 30,
   "metadata": {},
   "outputs": [
    {
     "data": {
      "text/plain": [
       "Label\n",
       "1    723\n",
       "0    154\n",
       "Name: count, dtype: int64"
      ]
     },
     "execution_count": 30,
     "metadata": {},
     "output_type": "execute_result"
    }
   ],
   "source": [
    "# Verdaderos positivos y Verdaderos negativos\n",
    "df_val_opiniones['Label'].value_counts()"
   ]
  }
 ],
 "metadata": {
  "kernelspec": {
   "display_name": "Python 3",
   "language": "python",
   "name": "python3"
  },
  "language_info": {
   "codemirror_mode": {
    "name": "ipython",
    "version": 3
   },
   "file_extension": ".py",
   "mimetype": "text/x-python",
   "name": "python",
   "nbconvert_exporter": "python",
   "pygments_lexer": "ipython3",
   "version": "3.12.0"
  }
 },
 "nbformat": 4,
 "nbformat_minor": 2
}
