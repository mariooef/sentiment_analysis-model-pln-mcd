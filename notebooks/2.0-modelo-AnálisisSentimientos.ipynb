{
 "cells": [
  {
   "cell_type": "markdown",
   "metadata": {},
   "source": [
    "# Modelo para Análisis de sentimientos"
   ]
  },
  {
   "cell_type": "markdown",
   "metadata": {},
   "source": [
    "### Importando librerías"
   ]
  },
  {
   "cell_type": "code",
   "execution_count": 202,
   "metadata": {},
   "outputs": [
    {
     "name": "stderr",
     "output_type": "stream",
     "text": [
      "[nltk_data] Downloading package punkt to\n",
      "[nltk_data]     C:\\Users\\Janneth\\AppData\\Roaming\\nltk_data...\n",
      "[nltk_data]   Package punkt is already up-to-date!\n",
      "[nltk_data] Downloading package wordnet to\n",
      "[nltk_data]     C:\\Users\\Janneth\\AppData\\Roaming\\nltk_data...\n",
      "[nltk_data]   Package wordnet is already up-to-date!\n"
     ]
    },
    {
     "data": {
      "text/plain": [
       "True"
      ]
     },
     "execution_count": 202,
     "metadata": {},
     "output_type": "execute_result"
    }
   ],
   "source": [
    "import pandas as pd\n",
    "\n",
    "import spacy\n",
    "\n",
    "import nltk\n",
    "from nltk.corpus import stopwords\n",
    "from nltk import bigrams, trigrams, ngrams, skipgrams\n",
    "from collections import defaultdict\n",
    "from string import punctuation\n",
    "\n",
    "from sklearn.metrics import f1_score\n",
    "\n",
    "from sklearn.metrics import confusion_matrix, ConfusionMatrixDisplay\n",
    "import matplotlib.pyplot as plt\n",
    "\n",
    "from sklearn.metrics import classification_report\n",
    "from nltk import word_tokenize\n",
    "from nltk.stem import WordNetLemmatizer\n",
    "\n",
    "nltk.download('punkt')\n",
    "nltk.download('wordnet')"
   ]
  },
  {
   "cell_type": "markdown",
   "metadata": {},
   "source": [
    "### Funciones"
   ]
  },
  {
   "cell_type": "code",
   "execution_count": 203,
   "metadata": {},
   "outputs": [],
   "source": [
    "# Genera los tokens del texto y gestiona el uso de stopwords, signos de puntuación y lematización\n",
    "def generador_tokens(text, remove_stopwords=False, lemmatize=False, remove_punctuation=False):\n",
    "\n",
    "    # Tokenización\n",
    "    tokens = word_tokenize(text)\n",
    "\n",
    "    # Eliminar signos de puntuación\n",
    "    if remove_punctuation:\n",
    "        punctuations = list(punctuation)\n",
    "        tokens = [word for word in tokens if word.isalnum() and word not in punctuations]\n",
    "\n",
    "    # Eliminar stopwords\n",
    "    if remove_stopwords:\n",
    "        stop_words = set(stopwords.words('spanish'))\n",
    "        tokens = [word for word in tokens if word.isalnum() and word not in stop_words]\n",
    "    \n",
    "    # Lematización\n",
    "    if lemmatize:\n",
    "        lemmatizer = WordNetLemmatizer()\n",
    "        tokens = [lemmatizer.lemmatize(word) for word in tokens]\n",
    "\n",
    "    return tokens\n",
    "\n",
    "# Genera los n-gramas de un texto y realiza el conteo de frecuencias\n",
    "def generador_grama(df, n, k, remove_stopwords=False, lemmatize=False, remove_punctuation=False):\n",
    "  gram_generate = defaultdict(int)\n",
    "\n",
    "  # Procesando cada opinión\n",
    "  for row in df:\n",
    "      opinion = row\n",
    "      \n",
    "      # Preprocesando el texto de la opinión y generador de tokens\n",
    "      tokens = generador_tokens(opinion, remove_stopwords, lemmatize, remove_punctuation)\n",
    "        \n",
    "      # Generando n-gramas\n",
    "      n_grams = ngrams(tokens, n)\n",
    "      #n_grams = skipgrams(tokens, n, k)\n",
    "        \n",
    "      # Actualizando el puntaje de los n-gramas\n",
    "      for gram in n_grams:\n",
    "        gram_generate[gram] += 1\n",
    "  \n",
    "  return gram_generate\n",
    "\n",
    "# Evaluación de un texto\n",
    "# Regresa un score donde se suman las frecuencias de los n-gramas positivos y se restan las frecuencias de los n-gramas negativos\n",
    "def evaluar_texto(texto, frec_positivos, frec_negativos, n, k):\n",
    "    score = 0\n",
    "    \n",
    "    # Preprocesando el texto de la opinión y generador de tokens\n",
    "    tokens = generador_tokens(texto, remove_stopwords=True, lemmatize=False, remove_punctuation=True)\n",
    "    \n",
    "    # Conteo de n-gramas \n",
    "    for n_grama in ngrams(tokens, n):\n",
    "    #for n_grama in skipgrams(tokens, n, k):\n",
    "        score += frec_positivos[n_grama]\n",
    "        score -= frec_negativos[n_grama]\n",
    "        #print(n_grama, \"+\", frec_positivos[n_grama], \"-\", frec_negativos[n_grama])     \n",
    "    return score\n",
    "\n",
    "\n",
    "# Clasificación del score\n",
    "def clasificar(score):\n",
    "    if score >= 0:  #Positivo\n",
    "        return 1\n",
    "    else:\n",
    "        return 0    #Negativo"
   ]
  },
  {
   "cell_type": "markdown",
   "metadata": {},
   "source": [
    "### Cargando conjuntos de entrenamiento y validación"
   ]
  },
  {
   "cell_type": "code",
   "execution_count": 204,
   "metadata": {},
   "outputs": [],
   "source": [
    "train = pd.read_csv('../data/processed/train.csv', index_col=[0], parse_dates=['Date'], dayfirst=True)\n",
    "\n",
    "val = pd.read_csv('../data/processed/val.csv', index_col=[0], parse_dates=['Date'], dayfirst=True)"
   ]
  },
  {
   "cell_type": "markdown",
   "metadata": {},
   "source": [
    "### Separando por clase (Positivos y Negativos)"
   ]
  },
  {
   "cell_type": "code",
   "execution_count": 205,
   "metadata": {},
   "outputs": [],
   "source": [
    "train_opiniones_positivas = train[train['Label'] == 1]['Opinion']\n",
    "\n",
    "train_opiniones_negativas = train[train['Label'] == 0]['Opinion']"
   ]
  },
  {
   "cell_type": "markdown",
   "metadata": {},
   "source": [
    "### Aplicando técnicas para el balanceo de clases"
   ]
  },
  {
   "cell_type": "markdown",
   "metadata": {},
   "source": [
    "#### 1. Sobremuestreo de la clase minoritaria (Oversampling)"
   ]
  },
  {
   "cell_type": "code",
   "execution_count": 206,
   "metadata": {},
   "outputs": [
    {
     "name": "stdout",
     "output_type": "stream",
     "text": [
      "Positivas:  2892  - Negativas:  2892\n"
     ]
    }
   ],
   "source": [
    "# Duplicar las reseñas de la clase minoritaria (negativos)\n",
    "opiniones_negativas_duplicadas = train_opiniones_negativas.sample(n=len(train_opiniones_positivas) - len(train_opiniones_negativas), replace=True, random_state=42)\n",
    "\n",
    "# Combinar el DataFrame original con las reseñas duplicadas\n",
    "train_opiniones_negativas_balanceado = pd.concat([train_opiniones_negativas, opiniones_negativas_duplicadas])\n",
    "\n",
    "print(\"Positivas: \", len(train_opiniones_positivas), \" - Negativas: \", len(train_opiniones_negativas_balanceado))"
   ]
  },
  {
   "cell_type": "markdown",
   "metadata": {},
   "source": [
    "#### 2. Submuestreo de la clase mayoritaria (Undersampling)"
   ]
  },
  {
   "cell_type": "code",
   "execution_count": 207,
   "metadata": {},
   "outputs": [],
   "source": [
    "# Realizar submuestreo de la clase mayoritaria para que tenga el mismo número de instancias que la clase minoritaria\n",
    "#train_opiniones_positivas_balanceado = train_opiniones_positivas.sample(n=len(train_opiniones_negativas), random_state=42)\n",
    "#train_opiniones_positivas_balanceado.shape\n"
   ]
  },
  {
   "cell_type": "markdown",
   "metadata": {},
   "source": [
    "#### 3. Combinación oversampling + undersampling"
   ]
  },
  {
   "cell_type": "code",
   "execution_count": 208,
   "metadata": {},
   "outputs": [],
   "source": [
    "## Calcular número de reseñas que deberán tener ambos conjuntos\n",
    "#diff = len(train_opiniones_positivas) - len(train_opiniones_negativas)\n",
    "#n_muestras = int(diff / 2)\n",
    "\n",
    "#train_opiniones_positivas_balanceado = train_opiniones_positivas.sample(n=len(train_opiniones_positivas)-n_muestras, random_state=42)\n",
    "#print(train_opiniones_positivas_balanceado.shape)\n",
    "\n",
    "## Duplicar las reseñas de la clase minoritaria (negativos)\n",
    "#opiniones_negativas_duplicadas = train_opiniones_negativas.sample(n=n_muestras, replace=True, random_state=42)\n",
    "\n",
    "\n",
    "## Combinar el DataFrame original con las reseñas duplicadas\n",
    "#train_opiniones_negativas_balanceado = pd.concat([train_opiniones_negativas, opiniones_negativas_duplicadas])\n",
    "\n",
    "#train_opiniones_negativas_balanceado.shape"
   ]
  },
  {
   "cell_type": "markdown",
   "metadata": {},
   "source": [
    "### Entrenamiento"
   ]
  },
  {
   "cell_type": "code",
   "execution_count": 209,
   "metadata": {},
   "outputs": [],
   "source": [
    "# Número de n-gramas\n",
    "n = 2\n",
    "\n",
    "# Número de tokens a saltar, en caso de skip-grams\n",
    "k = 1\n",
    "\n",
    "# Modelo de conteos de n_gramas\n",
    "frec_positivos = defaultdict(int) \n",
    "frec_negativos = defaultdict(int) \n",
    "\n",
    "frec_positivos = generador_grama(train_opiniones_positivas, n, k, remove_stopwords=True, lemmatize=False,remove_punctuation=True)\n",
    "frec_negativos = generador_grama(train_opiniones_negativas_balanceado, n, k, remove_stopwords=True, lemmatize=False,remove_punctuation=True)"
   ]
  },
  {
   "cell_type": "markdown",
   "metadata": {},
   "source": [
    "### Evaluación"
   ]
  },
  {
   "cell_type": "code",
   "execution_count": 210,
   "metadata": {},
   "outputs": [
    {
     "data": {
      "text/plain": [
       "1"
      ]
     },
     "execution_count": 210,
     "metadata": {},
     "output_type": "execute_result"
    }
   ],
   "source": [
    "# Evaluando un texto específico\n",
    "#texto = 'el edificio esta en excelentes condiciones y las muestras son buenas guanajuato es esencial para comprender la historia de mexico y tambien lo son los muros y cuartos de la alhondiga que conserva en el silencio de sus muros y salas llantos conspiraciones politicas y piezas que trazan la arqueologia de nuestro pasado el museo es interesante pero el viajero debe poner todo de su parte para prender y hacer del recorrido una experiencia atractiva el museo tiene un gran reo por delante para captar la atencion de todo tipo de visitantes sin embargo hay guias muy buenos en la sala de exposicion de pinturas de milagros hay una guia excepcional ella transformo mi visita fue genial'\n",
    "texto = 'es mas viejo que las momias'\n",
    "evaluar_texto(texto, frec_positivos, frec_negativos, n, k)"
   ]
  },
  {
   "cell_type": "code",
   "execution_count": 211,
   "metadata": {},
   "outputs": [],
   "source": [
    "# Evaluación de las opiniones del conjunto de validación\n",
    "df_val_opiniones = val.copy()\n",
    "df_val_opiniones['Score'] = df_val_opiniones['Opinion'].apply(lambda x: evaluar_texto(x, frec_positivos, frec_negativos, n, k))\n",
    "df_val_opiniones['Clasificación'] = df_val_opiniones['Score'].apply(clasificar)"
   ]
  },
  {
   "cell_type": "code",
   "execution_count": 212,
   "metadata": {},
   "outputs": [
    {
     "name": "stdout",
     "output_type": "stream",
     "text": [
      "F1 Score: 0.8535871156661786\n",
      "F1 Score weighted 0.7887822592105793\n"
     ]
    }
   ],
   "source": [
    "# F1 Score\n",
    "from sklearn.metrics import f1_score\n",
    "\n",
    "print(f'F1 Score:', f1_score(df_val_opiniones['Label'], df_val_opiniones['Clasificación']))\n",
    "print(f'F1 Score weighted', f1_score(df_val_opiniones['Label'], df_val_opiniones['Clasificación'], average='weighted'))"
   ]
  },
  {
   "cell_type": "code",
   "execution_count": 213,
   "metadata": {},
   "outputs": [
    {
     "data": {
      "image/png": "[encoded data removed]",
      "text/plain": [
       "<Figure size 640x480 with 2 Axes>"
      ]
     },
     "metadata": {},
     "output_type": "display_data"
    }
   ],
   "source": [
    "# Matriz de confusión\n",
    "from sklearn.metrics import confusion_matrix, ConfusionMatrixDisplay\n",
    "import matplotlib.pyplot as plt\n",
    "\n",
    "cm = confusion_matrix(df_val_opiniones['Label'], df_val_opiniones['Clasificación'])\n",
    "disp = ConfusionMatrixDisplay(confusion_matrix=cm)\n",
    "disp.plot()\n",
    "plt.xlabel('Predicción')\n",
    "plt.ylabel('Valor real')\n",
    "plt.show()"
   ]
  },
  {
   "cell_type": "code",
   "execution_count": 214,
   "metadata": {},
   "outputs": [
    {
     "name": "stdout",
     "output_type": "stream",
     "text": [
      "              precision    recall  f1-score   support\n",
      "\n",
      "           0       0.40      0.61      0.48       154\n",
      "           1       0.91      0.81      0.85       723\n",
      "\n",
      "    accuracy                           0.77       877\n",
      "   macro avg       0.65      0.71      0.67       877\n",
      "weighted avg       0.82      0.77      0.79       877\n",
      "\n"
     ]
    }
   ],
   "source": [
    "# Classification Report\n",
    "print(classification_report(df_val_opiniones['Label'], df_val_opiniones['Clasificación']))"
   ]
  },
  {
   "cell_type": "code",
   "execution_count": 215,
   "metadata": {},
   "outputs": [
    {
     "data": {
      "text/plain": [
       "Clasificación\n",
       "1    643\n",
       "0    234\n",
       "Name: count, dtype: int64"
      ]
     },
     "execution_count": 215,
     "metadata": {},
     "output_type": "execute_result"
    }
   ],
   "source": [
    "df_val_opiniones['Clasificación'].value_counts()"
   ]
  },
  {
   "cell_type": "code",
   "execution_count": 216,
   "metadata": {},
   "outputs": [
    {
     "data": {
      "text/html": [
       "<div>\n",
       "<style scoped>\n",
       "    .dataframe tbody tr th:only-of-type {\n",
       "        vertical-align: middle;\n",
       "    }\n",
       "\n",
       "    .dataframe tbody tr th {\n",
       "        vertical-align: top;\n",
       "    }\n",
       "\n",
       "    .dataframe thead th {\n",
       "        text-align: right;\n",
       "    }\n",
       "</style>\n",
       "<table border=\"1\" class=\"dataframe\">\n",
       "  <thead>\n",
       "    <tr style=\"text-align: right;\">\n",
       "      <th></th>\n",
       "      <th>Title</th>\n",
       "      <th>Opinion</th>\n",
       "      <th>Place</th>\n",
       "      <th>Label</th>\n",
       "      <th>Score</th>\n",
       "      <th>Clasificación</th>\n",
       "    </tr>\n",
       "  </thead>\n",
       "  <tbody>\n",
       "    <tr>\n",
       "      <th>27</th>\n",
       "      <td>es mas viejo que las momias</td>\n",
       "      <td>en condiciones mediocres demasiado personal pa...</td>\n",
       "      <td>Museo de las Momias</td>\n",
       "      <td>0</td>\n",
       "      <td>3</td>\n",
       "      <td>1</td>\n",
       "    </tr>\n",
       "    <tr>\n",
       "      <th>35</th>\n",
       "      <td>historia</td>\n",
       "      <td>escultura importante que se encuentra sobre un...</td>\n",
       "      <td>Monumento Pípila</td>\n",
       "      <td>0</td>\n",
       "      <td>9</td>\n",
       "      <td>1</td>\n",
       "    </tr>\n",
       "    <tr>\n",
       "      <th>569</th>\n",
       "      <td>realismo magico</td>\n",
       "      <td>hay una leyenda acerca de este lugar que me pa...</td>\n",
       "      <td>Callejón del Beso</td>\n",
       "      <td>0</td>\n",
       "      <td>30</td>\n",
       "      <td>1</td>\n",
       "    </tr>\n",
       "    <tr>\n",
       "      <th>617</th>\n",
       "      <td>excelentes fotos panoramicas</td>\n",
       "      <td>este lugar es perfecto para tomar fotografias ...</td>\n",
       "      <td>Monumento Pípila</td>\n",
       "      <td>0</td>\n",
       "      <td>81</td>\n",
       "      <td>1</td>\n",
       "    </tr>\n",
       "    <tr>\n",
       "      <th>21</th>\n",
       "      <td>demasiado calor dentro de la estatua</td>\n",
       "      <td>no disfruto ir al pipila pero siendo de guanaj...</td>\n",
       "      <td>Monumento Pípila</td>\n",
       "      <td>0</td>\n",
       "      <td>11</td>\n",
       "      <td>1</td>\n",
       "    </tr>\n",
       "  </tbody>\n",
       "</table>\n",
       "</div>"
      ],
      "text/plain": [
       "                                    Title  \\\n",
       "27            es mas viejo que las momias   \n",
       "35                               historia   \n",
       "569                       realismo magico   \n",
       "617          excelentes fotos panoramicas   \n",
       "21   demasiado calor dentro de la estatua   \n",
       "\n",
       "                                               Opinion                Place  \\\n",
       "27   en condiciones mediocres demasiado personal pa...  Museo de las Momias   \n",
       "35   escultura importante que se encuentra sobre un...     Monumento Pípila   \n",
       "569  hay una leyenda acerca de este lugar que me pa...    Callejón del Beso   \n",
       "617  este lugar es perfecto para tomar fotografias ...     Monumento Pípila   \n",
       "21   no disfruto ir al pipila pero siendo de guanaj...     Monumento Pípila   \n",
       "\n",
       "     Label  Score  Clasificación  \n",
       "27       0      3              1  \n",
       "35       0      9              1  \n",
       "569      0     30              1  \n",
       "617      0     81              1  \n",
       "21       0     11              1  "
      ]
     },
     "execution_count": 216,
     "metadata": {},
     "output_type": "execute_result"
    }
   ],
   "source": [
    "# Falsos positivos\n",
    "falsos_positivos = df_val_opiniones[(df_val_opiniones['Label'] == 0) & (df_val_opiniones['Clasificación'] == 1)][['Title', 'Opinion', 'Place', 'Label','Score', 'Clasificación']]\n",
    "falsos_positivos.head()"
   ]
  },
  {
   "cell_type": "code",
   "execution_count": 217,
   "metadata": {},
   "outputs": [
    {
     "data": {
      "text/html": [
       "<div>\n",
       "<style scoped>\n",
       "    .dataframe tbody tr th:only-of-type {\n",
       "        vertical-align: middle;\n",
       "    }\n",
       "\n",
       "    .dataframe tbody tr th {\n",
       "        vertical-align: top;\n",
       "    }\n",
       "\n",
       "    .dataframe thead th {\n",
       "        text-align: right;\n",
       "    }\n",
       "</style>\n",
       "<table border=\"1\" class=\"dataframe\">\n",
       "  <thead>\n",
       "    <tr style=\"text-align: right;\">\n",
       "      <th></th>\n",
       "      <th>Title</th>\n",
       "      <th>Opinion</th>\n",
       "      <th>Place</th>\n",
       "      <th>Label</th>\n",
       "      <th>Score</th>\n",
       "      <th>Clasificación</th>\n",
       "    </tr>\n",
       "  </thead>\n",
       "  <tbody>\n",
       "    <tr>\n",
       "      <th>1407</th>\n",
       "      <td>interesante lugar</td>\n",
       "      <td>un museo muy interesante y diferente recomiend...</td>\n",
       "      <td>Museo de las Momias</td>\n",
       "      <td>1</td>\n",
       "      <td>-13</td>\n",
       "      <td>0</td>\n",
       "    </tr>\n",
       "    <tr>\n",
       "      <th>2578</th>\n",
       "      <td>templo con enorme belleza</td>\n",
       "      <td>me encanto su interior lleno de hermosura tant...</td>\n",
       "      <td>Basilica Colegiata</td>\n",
       "      <td>1</td>\n",
       "      <td>-20</td>\n",
       "      <td>0</td>\n",
       "    </tr>\n",
       "    <tr>\n",
       "      <th>3341</th>\n",
       "      <td>es una experiencia diferente</td>\n",
       "      <td>visite el museo de las momias con mi esposa y ...</td>\n",
       "      <td>Museo de las Momias</td>\n",
       "      <td>1</td>\n",
       "      <td>-68</td>\n",
       "      <td>0</td>\n",
       "    </tr>\n",
       "    <tr>\n",
       "      <th>834</th>\n",
       "      <td>estremecedor</td>\n",
       "      <td>perdi la cuenta de las veces que mi padre me l...</td>\n",
       "      <td>Museo de las Momias</td>\n",
       "      <td>1</td>\n",
       "      <td>-4</td>\n",
       "      <td>0</td>\n",
       "    </tr>\n",
       "    <tr>\n",
       "      <th>2838</th>\n",
       "      <td>interesante cuando es primera vez</td>\n",
       "      <td>es un buen lugar para conocer sobre museo y ma...</td>\n",
       "      <td>Museo de las Momias</td>\n",
       "      <td>1</td>\n",
       "      <td>-46</td>\n",
       "      <td>0</td>\n",
       "    </tr>\n",
       "  </tbody>\n",
       "</table>\n",
       "</div>"
      ],
      "text/plain": [
       "                                  Title  \\\n",
       "1407                  interesante lugar   \n",
       "2578          templo con enorme belleza   \n",
       "3341       es una experiencia diferente   \n",
       "834                        estremecedor   \n",
       "2838  interesante cuando es primera vez   \n",
       "\n",
       "                                                Opinion                Place  \\\n",
       "1407  un museo muy interesante y diferente recomiend...  Museo de las Momias   \n",
       "2578  me encanto su interior lleno de hermosura tant...   Basilica Colegiata   \n",
       "3341  visite el museo de las momias con mi esposa y ...  Museo de las Momias   \n",
       "834   perdi la cuenta de las veces que mi padre me l...  Museo de las Momias   \n",
       "2838  es un buen lugar para conocer sobre museo y ma...  Museo de las Momias   \n",
       "\n",
       "      Label  Score  Clasificación  \n",
       "1407      1    -13              0  \n",
       "2578      1    -20              0  \n",
       "3341      1    -68              0  \n",
       "834       1     -4              0  \n",
       "2838      1    -46              0  "
      ]
     },
     "execution_count": 217,
     "metadata": {},
     "output_type": "execute_result"
    }
   ],
   "source": [
    "# Falsos negativos\n",
    "falsos_negativos = df_val_opiniones[(df_val_opiniones['Label'] == 1) & (df_val_opiniones['Clasificación'] == 0)][['Title', 'Opinion', 'Place', 'Label','Score', 'Clasificación']]\n",
    "falsos_negativos.tail()"
   ]
  },
  {
   "cell_type": "markdown",
   "metadata": {},
   "source": [
    "### Prueba"
   ]
  },
  {
   "cell_type": "code",
   "execution_count": 219,
   "metadata": {},
   "outputs": [
    {
     "data": {
      "text/html": [
       "<div>\n",
       "<style scoped>\n",
       "    .dataframe tbody tr th:only-of-type {\n",
       "        vertical-align: middle;\n",
       "    }\n",
       "\n",
       "    .dataframe tbody tr th {\n",
       "        vertical-align: top;\n",
       "    }\n",
       "\n",
       "    .dataframe thead th {\n",
       "        text-align: right;\n",
       "    }\n",
       "</style>\n",
       "<table border=\"1\" class=\"dataframe\">\n",
       "  <thead>\n",
       "    <tr style=\"text-align: right;\">\n",
       "      <th></th>\n",
       "      <th>Title</th>\n",
       "      <th>Opinion</th>\n",
       "      <th>Place</th>\n",
       "      <th>Gender</th>\n",
       "      <th>Age</th>\n",
       "      <th>Country</th>\n",
       "      <th>Date</th>\n",
       "    </tr>\n",
       "  </thead>\n",
       "  <tbody>\n",
       "    <tr>\n",
       "      <th>0</th>\n",
       "      <td>\"No coman ahí\"</td>\n",
       "      <td>\"Creo que es muy insalubre, hay basura por tod...</td>\n",
       "      <td>Mercado Hidalgo</td>\n",
       "      <td>Female</td>\n",
       "      <td>61</td>\n",
       "      <td>México</td>\n",
       "      <td>15/01/2013</td>\n",
       "    </tr>\n",
       "    <tr>\n",
       "      <th>1</th>\n",
       "      <td>\"Romántico\"</td>\n",
       "      <td>\"Es un callejón común donde todos toman fotos ...</td>\n",
       "      <td>Callejón del Beso</td>\n",
       "      <td>Female</td>\n",
       "      <td>42</td>\n",
       "      <td>Uruguay</td>\n",
       "      <td>22/06/2015</td>\n",
       "    </tr>\n",
       "    <tr>\n",
       "      <th>2</th>\n",
       "      <td>Muy descuidado</td>\n",
       "      <td>Cierto, es un mercado, pero no por eso hay que...</td>\n",
       "      <td>Mercado Hidalgo</td>\n",
       "      <td>Male</td>\n",
       "      <td>-1</td>\n",
       "      <td>México</td>\n",
       "      <td>2019</td>\n",
       "    </tr>\n",
       "    <tr>\n",
       "      <th>3</th>\n",
       "      <td>\"Impresionante\"</td>\n",
       "      <td>\"El acabado del altar es sumamente bonito, aun...</td>\n",
       "      <td>Basilica Colegiata</td>\n",
       "      <td>Male</td>\n",
       "      <td>26</td>\n",
       "      <td>México</td>\n",
       "      <td>08/10/2013</td>\n",
       "    </tr>\n",
       "    <tr>\n",
       "      <th>4</th>\n",
       "      <td>\"No es lo máximo\"</td>\n",
       "      <td>\"De todo lo hermoso que tiene Guanajuato esto ...</td>\n",
       "      <td>Basilica Colegiata</td>\n",
       "      <td>Female</td>\n",
       "      <td>54</td>\n",
       "      <td>México</td>\n",
       "      <td>10/01/2012</td>\n",
       "    </tr>\n",
       "    <tr>\n",
       "      <th>...</th>\n",
       "      <td>...</td>\n",
       "      <td>...</td>\n",
       "      <td>...</td>\n",
       "      <td>...</td>\n",
       "      <td>...</td>\n",
       "      <td>...</td>\n",
       "      <td>...</td>\n",
       "    </tr>\n",
       "    <tr>\n",
       "      <th>775</th>\n",
       "      <td>\"MUY BUENO\"</td>\n",
       "      <td>\"Sólo lo vi de fuera y me pareció increíble, y...</td>\n",
       "      <td>Teatro Juárez</td>\n",
       "      <td>Female</td>\n",
       "      <td>27</td>\n",
       "      <td>México</td>\n",
       "      <td>25/02/2013</td>\n",
       "    </tr>\n",
       "    <tr>\n",
       "      <th>776</th>\n",
       "      <td>Bueno para comer</td>\n",
       "      <td>Además de conseguir las artesanías y famosos d...</td>\n",
       "      <td>Mercado Hidalgo</td>\n",
       "      <td>Male</td>\n",
       "      <td>-1</td>\n",
       "      <td>México</td>\n",
       "      <td>2018</td>\n",
       "    </tr>\n",
       "    <tr>\n",
       "      <th>777</th>\n",
       "      <td>\"Hermosa\"</td>\n",
       "      <td>\"Es el templo más importante de Guanajuato y e...</td>\n",
       "      <td>Basilica Colegiata</td>\n",
       "      <td>Female</td>\n",
       "      <td>22</td>\n",
       "      <td>México</td>\n",
       "      <td>08/01/2018</td>\n",
       "    </tr>\n",
       "    <tr>\n",
       "      <th>778</th>\n",
       "      <td>\"Guanjuato y sus bellezas\"</td>\n",
       "      <td>\"Es uno de los lugares de nuestro país más emb...</td>\n",
       "      <td>Alhóndiga</td>\n",
       "      <td>Female</td>\n",
       "      <td>31</td>\n",
       "      <td>México</td>\n",
       "      <td>06/08/2012</td>\n",
       "    </tr>\n",
       "    <tr>\n",
       "      <th>779</th>\n",
       "      <td>\"Histórico\"</td>\n",
       "      <td>\"Caminar por el centro y conocer parte de su h...</td>\n",
       "      <td>Teatro Juárez</td>\n",
       "      <td>Female</td>\n",
       "      <td>49</td>\n",
       "      <td>México</td>\n",
       "      <td>09/02/2012</td>\n",
       "    </tr>\n",
       "  </tbody>\n",
       "</table>\n",
       "<p>780 rows × 7 columns</p>\n",
       "</div>"
      ],
      "text/plain": [
       "                          Title  \\\n",
       "0                \"No coman ahí\"   \n",
       "1                   \"Romántico\"   \n",
       "2                Muy descuidado   \n",
       "3               \"Impresionante\"   \n",
       "4             \"No es lo máximo\"   \n",
       "..                          ...   \n",
       "775                 \"MUY BUENO\"   \n",
       "776            Bueno para comer   \n",
       "777                   \"Hermosa\"   \n",
       "778  \"Guanjuato y sus bellezas\"   \n",
       "779                 \"Histórico\"   \n",
       "\n",
       "                                               Opinion               Place  \\\n",
       "0    \"Creo que es muy insalubre, hay basura por tod...     Mercado Hidalgo   \n",
       "1    \"Es un callejón común donde todos toman fotos ...   Callejón del Beso   \n",
       "2    Cierto, es un mercado, pero no por eso hay que...     Mercado Hidalgo   \n",
       "3    \"El acabado del altar es sumamente bonito, aun...  Basilica Colegiata   \n",
       "4    \"De todo lo hermoso que tiene Guanajuato esto ...  Basilica Colegiata   \n",
       "..                                                 ...                 ...   \n",
       "775  \"Sólo lo vi de fuera y me pareció increíble, y...       Teatro Juárez   \n",
       "776  Además de conseguir las artesanías y famosos d...     Mercado Hidalgo   \n",
       "777  \"Es el templo más importante de Guanajuato y e...  Basilica Colegiata   \n",
       "778  \"Es uno de los lugares de nuestro país más emb...           Alhóndiga   \n",
       "779  \"Caminar por el centro y conocer parte de su h...       Teatro Juárez   \n",
       "\n",
       "     Gender  Age  Country        Date  \n",
       "0    Female   61   México  15/01/2013  \n",
       "1    Female   42  Uruguay  22/06/2015  \n",
       "2      Male   -1   México        2019  \n",
       "3      Male   26   México  08/10/2013  \n",
       "4    Female   54   México  10/01/2012  \n",
       "..      ...  ...      ...         ...  \n",
       "775  Female   27   México  25/02/2013  \n",
       "776    Male   -1   México        2018  \n",
       "777  Female   22   México  08/01/2018  \n",
       "778  Female   31   México  06/08/2012  \n",
       "779  Female   49   México  09/02/2012  \n",
       "\n",
       "[780 rows x 7 columns]"
      ]
     },
     "metadata": {},
     "output_type": "display_data"
    }
   ],
   "source": [
    "import numpy as np\n",
    "import pandas as pd\n",
    "\n",
    "test_features_df = pd.read_csv('../data/raw/test_features.csv',index_col=0)\n",
    "test_labels = np.load('../data/raw/test_labels.npy')\n",
    "display(test_features_df)"
   ]
  },
  {
   "cell_type": "code",
   "execution_count": 220,
   "metadata": {},
   "outputs": [],
   "source": [
    "test_labels_series = pd.Series(test_labels)\n",
    "test_features_df['Label'] = test_labels_series\n"
   ]
  },
  {
   "cell_type": "code",
   "execution_count": 221,
   "metadata": {},
   "outputs": [
    {
     "data": {
      "text/html": [
       "<div>\n",
       "<style scoped>\n",
       "    .dataframe tbody tr th:only-of-type {\n",
       "        vertical-align: middle;\n",
       "    }\n",
       "\n",
       "    .dataframe tbody tr th {\n",
       "        vertical-align: top;\n",
       "    }\n",
       "\n",
       "    .dataframe thead th {\n",
       "        text-align: right;\n",
       "    }\n",
       "</style>\n",
       "<table border=\"1\" class=\"dataframe\">\n",
       "  <thead>\n",
       "    <tr style=\"text-align: right;\">\n",
       "      <th></th>\n",
       "      <th>Title</th>\n",
       "      <th>Opinion</th>\n",
       "      <th>Place</th>\n",
       "      <th>Gender</th>\n",
       "      <th>Age</th>\n",
       "      <th>Country</th>\n",
       "      <th>Date</th>\n",
       "      <th>Label</th>\n",
       "    </tr>\n",
       "  </thead>\n",
       "  <tbody>\n",
       "    <tr>\n",
       "      <th>0</th>\n",
       "      <td>\"No coman ahí\"</td>\n",
       "      <td>\"Creo que es muy insalubre, hay basura por tod...</td>\n",
       "      <td>Mercado Hidalgo</td>\n",
       "      <td>Female</td>\n",
       "      <td>61</td>\n",
       "      <td>México</td>\n",
       "      <td>15/01/2013</td>\n",
       "      <td>0</td>\n",
       "    </tr>\n",
       "    <tr>\n",
       "      <th>1</th>\n",
       "      <td>\"Romántico\"</td>\n",
       "      <td>\"Es un callejón común donde todos toman fotos ...</td>\n",
       "      <td>Callejón del Beso</td>\n",
       "      <td>Female</td>\n",
       "      <td>42</td>\n",
       "      <td>Uruguay</td>\n",
       "      <td>22/06/2015</td>\n",
       "      <td>0</td>\n",
       "    </tr>\n",
       "    <tr>\n",
       "      <th>2</th>\n",
       "      <td>Muy descuidado</td>\n",
       "      <td>Cierto, es un mercado, pero no por eso hay que...</td>\n",
       "      <td>Mercado Hidalgo</td>\n",
       "      <td>Male</td>\n",
       "      <td>-1</td>\n",
       "      <td>México</td>\n",
       "      <td>2019</td>\n",
       "      <td>0</td>\n",
       "    </tr>\n",
       "    <tr>\n",
       "      <th>3</th>\n",
       "      <td>\"Impresionante\"</td>\n",
       "      <td>\"El acabado del altar es sumamente bonito, aun...</td>\n",
       "      <td>Basilica Colegiata</td>\n",
       "      <td>Male</td>\n",
       "      <td>26</td>\n",
       "      <td>México</td>\n",
       "      <td>08/10/2013</td>\n",
       "      <td>0</td>\n",
       "    </tr>\n",
       "    <tr>\n",
       "      <th>4</th>\n",
       "      <td>\"No es lo máximo\"</td>\n",
       "      <td>\"De todo lo hermoso que tiene Guanajuato esto ...</td>\n",
       "      <td>Basilica Colegiata</td>\n",
       "      <td>Female</td>\n",
       "      <td>54</td>\n",
       "      <td>México</td>\n",
       "      <td>10/01/2012</td>\n",
       "      <td>0</td>\n",
       "    </tr>\n",
       "  </tbody>\n",
       "</table>\n",
       "</div>"
      ],
      "text/plain": [
       "               Title                                            Opinion  \\\n",
       "0     \"No coman ahí\"  \"Creo que es muy insalubre, hay basura por tod...   \n",
       "1        \"Romántico\"  \"Es un callejón común donde todos toman fotos ...   \n",
       "2     Muy descuidado  Cierto, es un mercado, pero no por eso hay que...   \n",
       "3    \"Impresionante\"  \"El acabado del altar es sumamente bonito, aun...   \n",
       "4  \"No es lo máximo\"  \"De todo lo hermoso que tiene Guanajuato esto ...   \n",
       "\n",
       "                Place  Gender  Age  Country        Date  Label  \n",
       "0     Mercado Hidalgo  Female   61   México  15/01/2013      0  \n",
       "1   Callejón del Beso  Female   42  Uruguay  22/06/2015      0  \n",
       "2     Mercado Hidalgo    Male   -1   México        2019      0  \n",
       "3  Basilica Colegiata    Male   26   México  08/10/2013      0  \n",
       "4  Basilica Colegiata  Female   54   México  10/01/2012      0  "
      ]
     },
     "execution_count": 221,
     "metadata": {},
     "output_type": "execute_result"
    }
   ],
   "source": [
    "test_features_df.head()"
   ]
  },
  {
   "cell_type": "code",
   "execution_count": 222,
   "metadata": {},
   "outputs": [
    {
     "name": "stdout",
     "output_type": "stream",
     "text": [
      "F1 Score: 0.7946127946127947\n",
      "F1 Score weighted: 0.7154818101054661\n"
     ]
    },
    {
     "data": {
      "image/png": "[encoded data removed]",
      "text/plain": [
       "<Figure size 640x480 with 2 Axes>"
      ]
     },
     "metadata": {},
     "output_type": "display_data"
    },
    {
     "name": "stdout",
     "output_type": "stream",
     "text": [
      "              precision    recall  f1-score   support\n",
      "\n",
      "           0       0.27      0.47      0.34       137\n",
      "           1       0.87      0.73      0.79       643\n",
      "\n",
      "    accuracy                           0.69       780\n",
      "   macro avg       0.57      0.60      0.57       780\n",
      "weighted avg       0.76      0.69      0.72       780\n",
      "\n"
     ]
    }
   ],
   "source": [
    "## Aplicar el modelo a las reseñas de prueba\n",
    "test_features_df['Score'] = test_features_df['Opinion'].apply(lambda x: evaluar_texto(x, frec_positivos, frec_negativos, n, k))\n",
    "test_features_df['Clasificación'] = test_features_df['Score'].apply(clasificar)\n",
    "\n",
    "## F1 Score\n",
    "print(f'F1 Score:', f1_score(test_features_df['Label'], test_features_df['Clasificación']))\n",
    "print(f'F1 Score weighted:', f1_score(test_features_df['Label'], test_features_df['Clasificación'], average='weighted'))\n",
    "\n",
    "## Matriz de confusión\n",
    "cm = confusion_matrix(test_features_df['Label'], test_features_df['Clasificación'])\n",
    "disp = ConfusionMatrixDisplay(confusion_matrix=cm)\n",
    "disp.plot()\n",
    "plt.xlabel('Predicción')\n",
    "plt.ylabel('Valor real')\n",
    "plt.show()\n",
    "\n",
    "## Classification report\n",
    "print(classification_report(test_features_df['Label'], test_features_df['Clasificación']))"
   ]
  }
 ],
 "metadata": {
  "kernelspec": {
   "display_name": "Python 3",
   "language": "python",
   "name": "python3"
  },
  "language_info": {
   "codemirror_mode": {
    "name": "ipython",
    "version": 3
   },
   "file_extension": ".py",
   "mimetype": "text/x-python",
   "name": "python",
   "nbconvert_exporter": "python",
   "pygments_lexer": "ipython3",
   "version": "3.11.3"
  }
 },
 "nbformat": 4,
 "nbformat_minor": 2
}
