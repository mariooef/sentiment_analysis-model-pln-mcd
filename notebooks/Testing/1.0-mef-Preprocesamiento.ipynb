{
 "cells": [
  {
   "cell_type": "markdown",
   "metadata": {},
   "source": [
    "# Preprocesamiento de corpus para Análisis de sentimientos"
   ]
  },
  {
   "cell_type": "markdown",
   "metadata": {},
   "source": [
    "### Importando librerías"
   ]
  },
  {
   "cell_type": "code",
   "execution_count": null,
   "metadata": {},
   "outputs": [],
   "source": [
    "#%pip install -U langdetect\n",
    "#%pip install spacy"
   ]
  },
  {
   "cell_type": "code",
   "execution_count": 3,
   "metadata": {},
   "outputs": [],
   "source": [
    "import pandas as pd\n",
    "from sklearn.model_selection import train_test_split\n",
    "\n",
    "import spacy\n",
    "\n",
    "import unicodedata\n",
    "import re\n",
    "\n",
    "from langdetect import detect"
   ]
  },
  {
   "cell_type": "markdown",
   "metadata": {},
   "source": [
    "### Cargando datos"
   ]
  },
  {
   "cell_type": "code",
   "execution_count": 2,
   "metadata": {},
   "outputs": [
    {
     "data": {
      "text/html": [
       "<div>\n",
       "<style scoped>\n",
       "    .dataframe tbody tr th:only-of-type {\n",
       "        vertical-align: middle;\n",
       "    }\n",
       "\n",
       "    .dataframe tbody tr th {\n",
       "        vertical-align: top;\n",
       "    }\n",
       "\n",
       "    .dataframe thead th {\n",
       "        text-align: right;\n",
       "    }\n",
       "</style>\n",
       "<table border=\"1\" class=\"dataframe\">\n",
       "  <thead>\n",
       "    <tr style=\"text-align: right;\">\n",
       "      <th></th>\n",
       "      <th>Title</th>\n",
       "      <th>Opinion</th>\n",
       "      <th>Place</th>\n",
       "      <th>Gender</th>\n",
       "      <th>Age</th>\n",
       "      <th>Country</th>\n",
       "      <th>Date</th>\n",
       "      <th>Label</th>\n",
       "    </tr>\n",
       "  </thead>\n",
       "  <tbody>\n",
       "    <tr>\n",
       "      <th>0</th>\n",
       "      <td>\"No es para recomendarse\"</td>\n",
       "      <td>\"Las famosas momias de Guanajuato. El museo en...</td>\n",
       "      <td>Museo de las Momias</td>\n",
       "      <td>Male</td>\n",
       "      <td>48</td>\n",
       "      <td>México</td>\n",
       "      <td>02/07/2013</td>\n",
       "      <td>0</td>\n",
       "    </tr>\n",
       "    <tr>\n",
       "      <th>1</th>\n",
       "      <td>\"Es un mercado tradicional, no es nada del otr...</td>\n",
       "      <td>\"Allí puedes encontrar comida o souvenirs. Es ...</td>\n",
       "      <td>Mercado Hidalgo</td>\n",
       "      <td>Male</td>\n",
       "      <td>52</td>\n",
       "      <td>México</td>\n",
       "      <td>06/09/2016</td>\n",
       "      <td>0</td>\n",
       "    </tr>\n",
       "    <tr>\n",
       "      <th>2</th>\n",
       "      <td>\"No visitar\"</td>\n",
       "      <td>\"Es tardado entrar al museo, una vez dentro no...</td>\n",
       "      <td>Museo de las Momias</td>\n",
       "      <td>Male</td>\n",
       "      <td>42</td>\n",
       "      <td>México</td>\n",
       "      <td>25/12/2017</td>\n",
       "      <td>0</td>\n",
       "    </tr>\n",
       "    <tr>\n",
       "      <th>3</th>\n",
       "      <td>\"No le veo atractivo. A ver semejantes cacharros\"</td>\n",
       "      <td>\"Entiendo que a muchos les cautive o llamé la ...</td>\n",
       "      <td>Museo de las Momias</td>\n",
       "      <td>Female</td>\n",
       "      <td>24</td>\n",
       "      <td>México</td>\n",
       "      <td>14/08/2013</td>\n",
       "      <td>0</td>\n",
       "    </tr>\n",
       "    <tr>\n",
       "      <th>4</th>\n",
       "      <td>\"Nada fuera de lo común\"</td>\n",
       "      <td>\"La fruta y verdura son poco frescos, al igual...</td>\n",
       "      <td>Mercado Hidalgo</td>\n",
       "      <td>Female</td>\n",
       "      <td>19</td>\n",
       "      <td>México</td>\n",
       "      <td>01/08/2017</td>\n",
       "      <td>0</td>\n",
       "    </tr>\n",
       "    <tr>\n",
       "      <th>...</th>\n",
       "      <td>...</td>\n",
       "      <td>...</td>\n",
       "      <td>...</td>\n",
       "      <td>...</td>\n",
       "      <td>...</td>\n",
       "      <td>...</td>\n",
       "      <td>...</td>\n",
       "      <td>...</td>\n",
       "    </tr>\n",
       "    <tr>\n",
       "      <th>4412</th>\n",
       "      <td>\"Beautiful architecture\"</td>\n",
       "      <td>\"This university is famous because of its beau...</td>\n",
       "      <td>Universidad de Guanajuato</td>\n",
       "      <td>Male</td>\n",
       "      <td>24</td>\n",
       "      <td>México</td>\n",
       "      <td>21/04/2014</td>\n",
       "      <td>1</td>\n",
       "    </tr>\n",
       "    <tr>\n",
       "      <th>4413</th>\n",
       "      <td>\"Imponente la universidad, TODO guanajuato es ...</td>\n",
       "      <td>\"Lo que no me gusto fue la comida, pero es muy...</td>\n",
       "      <td>Universidad de Guanajuato</td>\n",
       "      <td>Female</td>\n",
       "      <td>44</td>\n",
       "      <td>México</td>\n",
       "      <td>05/07/2015</td>\n",
       "      <td>1</td>\n",
       "    </tr>\n",
       "    <tr>\n",
       "      <th>4414</th>\n",
       "      <td>Lugar magico</td>\n",
       "      <td>Esta excelente para pasar a sentarse unos minu...</td>\n",
       "      <td>Jardín de la Unión</td>\n",
       "      <td>Male</td>\n",
       "      <td>-1</td>\n",
       "      <td>México</td>\n",
       "      <td>2018</td>\n",
       "      <td>1</td>\n",
       "    </tr>\n",
       "    <tr>\n",
       "      <th>4415</th>\n",
       "      <td>\"¡Su fachada es hermosa!\"</td>\n",
       "      <td>\"No tuvimos la fortuna de entrar a verlo, ya q...</td>\n",
       "      <td>Teatro Juárez</td>\n",
       "      <td>Female</td>\n",
       "      <td>47</td>\n",
       "      <td>México</td>\n",
       "      <td>22/10/2012</td>\n",
       "      <td>1</td>\n",
       "    </tr>\n",
       "    <tr>\n",
       "      <th>4416</th>\n",
       "      <td>\"Momias en silencio\"</td>\n",
       "      <td>\"Excelente cuidado de las momias y en museos, ...</td>\n",
       "      <td>Museo de las Momias</td>\n",
       "      <td>Female</td>\n",
       "      <td>20</td>\n",
       "      <td>Guatemala</td>\n",
       "      <td>17/05/2018</td>\n",
       "      <td>1</td>\n",
       "    </tr>\n",
       "  </tbody>\n",
       "</table>\n",
       "<p>4417 rows × 8 columns</p>\n",
       "</div>"
      ],
      "text/plain": [
       "                                                  Title  \\\n",
       "0                             \"No es para recomendarse\"   \n",
       "1     \"Es un mercado tradicional, no es nada del otr...   \n",
       "2                                          \"No visitar\"   \n",
       "3     \"No le veo atractivo. A ver semejantes cacharros\"   \n",
       "4                              \"Nada fuera de lo común\"   \n",
       "...                                                 ...   \n",
       "4412                           \"Beautiful architecture\"   \n",
       "4413  \"Imponente la universidad, TODO guanajuato es ...   \n",
       "4414                                       Lugar magico   \n",
       "4415                          \"¡Su fachada es hermosa!\"   \n",
       "4416                               \"Momias en silencio\"   \n",
       "\n",
       "                                                Opinion  \\\n",
       "0     \"Las famosas momias de Guanajuato. El museo en...   \n",
       "1     \"Allí puedes encontrar comida o souvenirs. Es ...   \n",
       "2     \"Es tardado entrar al museo, una vez dentro no...   \n",
       "3     \"Entiendo que a muchos les cautive o llamé la ...   \n",
       "4     \"La fruta y verdura son poco frescos, al igual...   \n",
       "...                                                 ...   \n",
       "4412  \"This university is famous because of its beau...   \n",
       "4413  \"Lo que no me gusto fue la comida, pero es muy...   \n",
       "4414  Esta excelente para pasar a sentarse unos minu...   \n",
       "4415  \"No tuvimos la fortuna de entrar a verlo, ya q...   \n",
       "4416  \"Excelente cuidado de las momias y en museos, ...   \n",
       "\n",
       "                          Place  Gender  Age    Country        Date  Label  \n",
       "0           Museo de las Momias    Male   48     México  02/07/2013      0  \n",
       "1               Mercado Hidalgo    Male   52     México  06/09/2016      0  \n",
       "2           Museo de las Momias    Male   42     México  25/12/2017      0  \n",
       "3           Museo de las Momias  Female   24     México  14/08/2013      0  \n",
       "4               Mercado Hidalgo  Female   19     México  01/08/2017      0  \n",
       "...                         ...     ...  ...        ...         ...    ...  \n",
       "4412  Universidad de Guanajuato    Male   24     México  21/04/2014      1  \n",
       "4413  Universidad de Guanajuato  Female   44     México  05/07/2015      1  \n",
       "4414         Jardín de la Unión    Male   -1     México        2018      1  \n",
       "4415              Teatro Juárez  Female   47     México  22/10/2012      1  \n",
       "4416        Museo de las Momias  Female   20  Guatemala  17/05/2018      1  \n",
       "\n",
       "[4417 rows x 8 columns]"
      ]
     },
     "execution_count": 2,
     "metadata": {},
     "output_type": "execute_result"
    }
   ],
   "source": [
    "df = pd.read_csv('../data/raw/train.csv', index_col=[0], parse_dates=['Date'])\n",
    "df"
   ]
  },
  {
   "cell_type": "markdown",
   "metadata": {},
   "source": [
    "__________________________________________________________________________________________________________________________________________"
   ]
  },
  {
   "cell_type": "markdown",
   "metadata": {},
   "source": [
    "## EDA"
   ]
  },
  {
   "cell_type": "code",
   "execution_count": 3,
   "metadata": {},
   "outputs": [
    {
     "name": "stdout",
     "output_type": "stream",
     "text": [
      "<class 'pandas.core.frame.DataFrame'>\n",
      "Index: 4417 entries, 0 to 4416\n",
      "Data columns (total 8 columns):\n",
      " #   Column   Non-Null Count  Dtype \n",
      "---  ------   --------------  ----- \n",
      " 0   Title    4416 non-null   object\n",
      " 1   Opinion  4415 non-null   object\n",
      " 2   Place    4417 non-null   object\n",
      " 3   Gender   4417 non-null   object\n",
      " 4   Age      4417 non-null   int64 \n",
      " 5   Country  4417 non-null   object\n",
      " 6   Date     4417 non-null   object\n",
      " 7   Label    4417 non-null   int64 \n",
      "dtypes: int64(2), object(6)\n",
      "memory usage: 310.6+ KB\n"
     ]
    }
   ],
   "source": [
    "df.info()"
   ]
  },
  {
   "cell_type": "markdown",
   "metadata": {},
   "source": [
    "#### Valores perdidos\n",
    "\n",
    "Sólo hay 3 casos"
   ]
  },
  {
   "cell_type": "code",
   "execution_count": 4,
   "metadata": {},
   "outputs": [
    {
     "data": {
      "text/plain": [
       "Title      1\n",
       "Opinion    2\n",
       "Place      0\n",
       "Gender     0\n",
       "Age        0\n",
       "Country    0\n",
       "Date       0\n",
       "Label      0\n",
       "dtype: int64"
      ]
     },
     "execution_count": 4,
     "metadata": {},
     "output_type": "execute_result"
    }
   ],
   "source": [
    "# Valores nulos\n",
    "df.isna().sum()"
   ]
  },
  {
   "cell_type": "code",
   "execution_count": 5,
   "metadata": {},
   "outputs": [
    {
     "data": {
      "text/html": [
       "<div>\n",
       "<style scoped>\n",
       "    .dataframe tbody tr th:only-of-type {\n",
       "        vertical-align: middle;\n",
       "    }\n",
       "\n",
       "    .dataframe tbody tr th {\n",
       "        vertical-align: top;\n",
       "    }\n",
       "\n",
       "    .dataframe thead th {\n",
       "        text-align: right;\n",
       "    }\n",
       "</style>\n",
       "<table border=\"1\" class=\"dataframe\">\n",
       "  <thead>\n",
       "    <tr style=\"text-align: right;\">\n",
       "      <th></th>\n",
       "      <th>Title</th>\n",
       "      <th>Opinion</th>\n",
       "      <th>Place</th>\n",
       "      <th>Gender</th>\n",
       "      <th>Age</th>\n",
       "      <th>Country</th>\n",
       "      <th>Date</th>\n",
       "      <th>Label</th>\n",
       "    </tr>\n",
       "  </thead>\n",
       "  <tbody>\n",
       "    <tr>\n",
       "      <th>2209</th>\n",
       "      <td>NaN</td>\n",
       "      <td>De los lugares más bonitos de Guanajuato, a un...</td>\n",
       "      <td>Jardín de la Unión</td>\n",
       "      <td>N/I</td>\n",
       "      <td>-1</td>\n",
       "      <td>México</td>\n",
       "      <td>2019</td>\n",
       "      <td>1</td>\n",
       "    </tr>\n",
       "  </tbody>\n",
       "</table>\n",
       "</div>"
      ],
      "text/plain": [
       "     Title                                            Opinion  \\\n",
       "2209   NaN  De los lugares más bonitos de Guanajuato, a un...   \n",
       "\n",
       "                   Place Gender  Age Country  Date  Label  \n",
       "2209  Jardín de la Unión    N/I   -1  México  2019      1  "
      ]
     },
     "execution_count": 5,
     "metadata": {},
     "output_type": "execute_result"
    }
   ],
   "source": [
    "df[df['Title'].isna()]"
   ]
  },
  {
   "cell_type": "code",
   "execution_count": 6,
   "metadata": {},
   "outputs": [
    {
     "data": {
      "text/html": [
       "<div>\n",
       "<style scoped>\n",
       "    .dataframe tbody tr th:only-of-type {\n",
       "        vertical-align: middle;\n",
       "    }\n",
       "\n",
       "    .dataframe tbody tr th {\n",
       "        vertical-align: top;\n",
       "    }\n",
       "\n",
       "    .dataframe thead th {\n",
       "        text-align: right;\n",
       "    }\n",
       "</style>\n",
       "<table border=\"1\" class=\"dataframe\">\n",
       "  <thead>\n",
       "    <tr style=\"text-align: right;\">\n",
       "      <th></th>\n",
       "      <th>Title</th>\n",
       "      <th>Opinion</th>\n",
       "      <th>Place</th>\n",
       "      <th>Gender</th>\n",
       "      <th>Age</th>\n",
       "      <th>Country</th>\n",
       "      <th>Date</th>\n",
       "      <th>Label</th>\n",
       "    </tr>\n",
       "  </thead>\n",
       "  <tbody>\n",
       "    <tr>\n",
       "      <th>1142</th>\n",
       "      <td>Lugar lleno de historia</td>\n",
       "      <td>NaN</td>\n",
       "      <td>Alhóndiga</td>\n",
       "      <td>Male</td>\n",
       "      <td>-1</td>\n",
       "      <td>México</td>\n",
       "      <td>2019</td>\n",
       "      <td>1</td>\n",
       "    </tr>\n",
       "    <tr>\n",
       "      <th>3712</th>\n",
       "      <td>punto cental</td>\n",
       "      <td>NaN</td>\n",
       "      <td>Basilica Colegiata</td>\n",
       "      <td>Male</td>\n",
       "      <td>-1</td>\n",
       "      <td>Argentina</td>\n",
       "      <td>2018</td>\n",
       "      <td>1</td>\n",
       "    </tr>\n",
       "  </tbody>\n",
       "</table>\n",
       "</div>"
      ],
      "text/plain": [
       "                        Title Opinion               Place Gender  Age  \\\n",
       "1142  Lugar lleno de historia     NaN           Alhóndiga   Male   -1   \n",
       "3712             punto cental     NaN  Basilica Colegiata   Male   -1   \n",
       "\n",
       "        Country  Date  Label  \n",
       "1142     México  2019      1  \n",
       "3712  Argentina  2018      1  "
      ]
     },
     "execution_count": 6,
     "metadata": {},
     "output_type": "execute_result"
    }
   ],
   "source": [
    "df[df['Opinion'].isna()]"
   ]
  },
  {
   "cell_type": "markdown",
   "metadata": {},
   "source": [
    "#### Valores atípicos"
   ]
  },
  {
   "cell_type": "code",
   "execution_count": 9,
   "metadata": {},
   "outputs": [
    {
     "data": {
      "text/plain": [
       "array(['Museo de las Momias', 'Mercado Hidalgo', 'Callejón del Beso',\n",
       "       'Basilica Colegiata', 'Monumento Pípila', 'Alhóndiga',\n",
       "       'Teatro Juárez', 'Universidad de Guanajuato',\n",
       "       'Casa de Diego Rivera', 'Jardín de la Unión'], dtype=object)"
      ]
     },
     "execution_count": 9,
     "metadata": {},
     "output_type": "execute_result"
    }
   ],
   "source": [
    "df['Place'].unique()"
   ]
  },
  {
   "cell_type": "markdown",
   "metadata": {},
   "source": [
    "#### Análisis de genero"
   ]
  },
  {
   "cell_type": "code",
   "execution_count": 10,
   "metadata": {},
   "outputs": [
    {
     "data": {
      "text/plain": [
       "Gender\n",
       "Male      2298\n",
       "Female    2059\n",
       "N/I         60\n",
       "Name: count, dtype: int64"
      ]
     },
     "execution_count": 10,
     "metadata": {},
     "output_type": "execute_result"
    }
   ],
   "source": [
    "df['Gender'].value_counts()"
   ]
  },
  {
   "cell_type": "markdown",
   "metadata": {},
   "source": [
    "#### Análisis Edad"
   ]
  },
  {
   "cell_type": "code",
   "execution_count": 11,
   "metadata": {},
   "outputs": [
    {
     "data": {
      "text/plain": [
       "array([48, 52, 42, 24, 19, -1, 33, 20, 44, 21, 16, 64, 25, 35, 29, 38, 53,\n",
       "       55, 30, 36, 45, 32, 60, 41, 46, 51, 40, 56, 54, 28, 39, 49, 37, 43,\n",
       "       50, 34, 17, 31, 68, 66, 47, 18, 23, 22, 57, 63, 27, 26, 61, 58, 67,\n",
       "       59, 70, 65, 62, 69, 15, 71, 75, 76, 72, 77], dtype=int64)"
      ]
     },
     "execution_count": 11,
     "metadata": {},
     "output_type": "execute_result"
    }
   ],
   "source": [
    "df['Age'].unique()"
   ]
  },
  {
   "cell_type": "markdown",
   "metadata": {},
   "source": [
    "#### Análisis País"
   ]
  },
  {
   "cell_type": "code",
   "execution_count": 12,
   "metadata": {},
   "outputs": [
    {
     "data": {
      "text/plain": [
       "array(['México', 'N/I', 'Perú', 'Paraguay', 'Ecuador', 'Panamá',\n",
       "       'Argentina', 'Colombia', 'España', 'Costa Rica', 'Venezuela',\n",
       "       'Estados Unidos', 'Alemania', 'Chile', 'Guatemala', 'Nicaragua',\n",
       "       'Brasil', 'Bolivia', 'Uruguay', 'Francia', 'República Dominicana',\n",
       "       'Canadá', 'El Salvador', 'Australia', 'Cuba', 'Italia', 'Rusia',\n",
       "       'Israel', 'Andorra', 'Honduras', 'Indonesia', 'Gibraltar',\n",
       "       'Bélgica', 'Inglaterra', 'China', 'Nueva Zelanda', 'Mozambique',\n",
       "       'Emiratos Árabes Unidos', 'Eslovaquia', 'Suiza', 'Irlanda',\n",
       "       'Belice', 'Islandia', 'Finlandia'], dtype=object)"
      ]
     },
     "execution_count": 12,
     "metadata": {},
     "output_type": "execute_result"
    }
   ],
   "source": [
    "df['Country'].unique()"
   ]
  },
  {
   "cell_type": "markdown",
   "metadata": {},
   "source": [
    "#### Análisis Fechas"
   ]
  },
  {
   "cell_type": "code",
   "execution_count": 13,
   "metadata": {},
   "outputs": [
    {
     "name": "stdout",
     "output_type": "stream",
     "text": [
      "01/01/2014\n",
      "31/12/2017\n"
     ]
    }
   ],
   "source": [
    "print(df['Date'].min())\n",
    "print(df['Date'].max())"
   ]
  },
  {
   "cell_type": "markdown",
   "metadata": {},
   "source": [
    "#### Balanceo de clases\n",
    "\n",
    "Las clases están desbalanceadas, ya que más del 80% son opiniones positivas y el resto negativas."
   ]
  },
  {
   "cell_type": "code",
   "execution_count": 17,
   "metadata": {},
   "outputs": [
    {
     "name": "stdout",
     "output_type": "stream",
     "text": [
      "Label\n",
      "1    3632\n",
      "0     774\n",
      "Name: count, dtype: int64\n"
     ]
    },
    {
     "data": {
      "text/plain": [
       "<Axes: xlabel='Label'>"
      ]
     },
     "execution_count": 17,
     "metadata": {},
     "output_type": "execute_result"
    },
    {
     "data": {
      "image/png": "[encoded data removed]",
      "text/plain": [
       "<Figure size 640x480 with 1 Axes>"
      ]
     },
     "metadata": {},
     "output_type": "display_data"
    }
   ],
   "source": [
    "print(df_clean['Label'].value_counts())\n",
    "df_clean['Label'].value_counts().plot(kind='bar')\n"
   ]
  },
  {
   "cell_type": "markdown",
   "metadata": {},
   "source": [
    "__________________________________________________________________________________________________________________________________________"
   ]
  },
  {
   "cell_type": "markdown",
   "metadata": {},
   "source": [
    "## PREPROCESAMIENTO"
   ]
  },
  {
   "cell_type": "markdown",
   "metadata": {},
   "source": [
    "### Tratando los valores nulos"
   ]
  },
  {
   "cell_type": "code",
   "execution_count": 7,
   "metadata": {},
   "outputs": [],
   "source": [
    "# Se sustituyen los valores nulos por un string vacío\n",
    "df['Title'] = df['Title'].fillna('')\n",
    "df['Opinion'] = df['Opinion'].fillna('')"
   ]
  },
  {
   "cell_type": "code",
   "execution_count": 8,
   "metadata": {},
   "outputs": [
    {
     "data": {
      "text/plain": [
       "Title      0\n",
       "Opinion    0\n",
       "Place      0\n",
       "Gender     0\n",
       "Age        0\n",
       "Country    0\n",
       "Date       0\n",
       "Label      0\n",
       "dtype: int64"
      ]
     },
     "execution_count": 8,
     "metadata": {},
     "output_type": "execute_result"
    }
   ],
   "source": [
    "df.isna().sum()"
   ]
  },
  {
   "cell_type": "markdown",
   "metadata": {},
   "source": [
    "#### Duplicados"
   ]
  },
  {
   "cell_type": "code",
   "execution_count": 16,
   "metadata": {},
   "outputs": [
    {
     "name": "stdout",
     "output_type": "stream",
     "text": [
      "Duplicados:  11\n"
     ]
    },
    {
     "data": {
      "text/plain": [
       "4406"
      ]
     },
     "execution_count": 16,
     "metadata": {},
     "output_type": "execute_result"
    }
   ],
   "source": [
    "# Cuantos duplicados hay\n",
    "print(\"Duplicados: \", df.duplicated().sum())\n",
    "\n",
    "# Mostrar los duplicados\n",
    "#df[df.duplicated(keep=False)].sort_values(by='Title')\n",
    "\n",
    "# Eliminar duplicados\n",
    "df_clean = df.drop_duplicates()\n",
    "len(df_clean)\n"
   ]
  },
  {
   "cell_type": "markdown",
   "metadata": {},
   "source": [
    "#### Limpieza"
   ]
  },
  {
   "cell_type": "code",
   "execution_count": null,
   "metadata": {},
   "outputs": [],
   "source": [
    "# Elminar triple comillas en textos\n",
    "df_clean['Title'] = df_clean['Title'].str.strip('\"')\n",
    "df_clean['Opinion'] = df_clean['Opinion'].str.strip('\"')\n"
   ]
  },
  {
   "cell_type": "markdown",
   "metadata": {},
   "source": [
    "#### Conversión a minúsculas\n"
   ]
  },
  {
   "cell_type": "code",
   "execution_count": null,
   "metadata": {},
   "outputs": [],
   "source": [
    "# Convertir a minúsculas\n",
    "df_clean['Title'] = df_clean['Title'].str.lower()\n",
    "df_clean['Opinion'] = df_clean['Opinion'].str.lower()"
   ]
  },
  {
   "cell_type": "code",
   "execution_count": 19,
   "metadata": {},
   "outputs": [
    {
     "data": {
      "text/html": [
       "<div>\n",
       "<style scoped>\n",
       "    .dataframe tbody tr th:only-of-type {\n",
       "        vertical-align: middle;\n",
       "    }\n",
       "\n",
       "    .dataframe tbody tr th {\n",
       "        vertical-align: top;\n",
       "    }\n",
       "\n",
       "    .dataframe thead th {\n",
       "        text-align: right;\n",
       "    }\n",
       "</style>\n",
       "<table border=\"1\" class=\"dataframe\">\n",
       "  <thead>\n",
       "    <tr style=\"text-align: right;\">\n",
       "      <th></th>\n",
       "      <th>Title</th>\n",
       "      <th>Opinion</th>\n",
       "      <th>Place</th>\n",
       "      <th>Gender</th>\n",
       "      <th>Age</th>\n",
       "      <th>Country</th>\n",
       "      <th>Date</th>\n",
       "      <th>Label</th>\n",
       "    </tr>\n",
       "  </thead>\n",
       "  <tbody>\n",
       "    <tr>\n",
       "      <th>0</th>\n",
       "      <td>no es para recomendarse</td>\n",
       "      <td>las famosas momias de guanajuato. el museo en ...</td>\n",
       "      <td>Museo de las Momias</td>\n",
       "      <td>Male</td>\n",
       "      <td>48</td>\n",
       "      <td>México</td>\n",
       "      <td>02/07/2013</td>\n",
       "      <td>0</td>\n",
       "    </tr>\n",
       "    <tr>\n",
       "      <th>1</th>\n",
       "      <td>es un mercado tradicional, no es nada del otro...</td>\n",
       "      <td>allí puedes encontrar comida o souvenirs. es u...</td>\n",
       "      <td>Mercado Hidalgo</td>\n",
       "      <td>Male</td>\n",
       "      <td>52</td>\n",
       "      <td>México</td>\n",
       "      <td>06/09/2016</td>\n",
       "      <td>0</td>\n",
       "    </tr>\n",
       "    <tr>\n",
       "      <th>2</th>\n",
       "      <td>no visitar</td>\n",
       "      <td>es tardado entrar al museo, una vez dentro no ...</td>\n",
       "      <td>Museo de las Momias</td>\n",
       "      <td>Male</td>\n",
       "      <td>42</td>\n",
       "      <td>México</td>\n",
       "      <td>25/12/2017</td>\n",
       "      <td>0</td>\n",
       "    </tr>\n",
       "    <tr>\n",
       "      <th>3</th>\n",
       "      <td>no le veo atractivo. a ver semejantes cacharros</td>\n",
       "      <td>entiendo que a muchos les cautive o llamé la a...</td>\n",
       "      <td>Museo de las Momias</td>\n",
       "      <td>Female</td>\n",
       "      <td>24</td>\n",
       "      <td>México</td>\n",
       "      <td>14/08/2013</td>\n",
       "      <td>0</td>\n",
       "    </tr>\n",
       "    <tr>\n",
       "      <th>4</th>\n",
       "      <td>nada fuera de lo común</td>\n",
       "      <td>la fruta y verdura son poco frescos, al igual ...</td>\n",
       "      <td>Mercado Hidalgo</td>\n",
       "      <td>Female</td>\n",
       "      <td>19</td>\n",
       "      <td>México</td>\n",
       "      <td>01/08/2017</td>\n",
       "      <td>0</td>\n",
       "    </tr>\n",
       "    <tr>\n",
       "      <th>...</th>\n",
       "      <td>...</td>\n",
       "      <td>...</td>\n",
       "      <td>...</td>\n",
       "      <td>...</td>\n",
       "      <td>...</td>\n",
       "      <td>...</td>\n",
       "      <td>...</td>\n",
       "      <td>...</td>\n",
       "    </tr>\n",
       "    <tr>\n",
       "      <th>4412</th>\n",
       "      <td>beautiful architecture</td>\n",
       "      <td>this university is famous because of its beaut...</td>\n",
       "      <td>Universidad de Guanajuato</td>\n",
       "      <td>Male</td>\n",
       "      <td>24</td>\n",
       "      <td>México</td>\n",
       "      <td>21/04/2014</td>\n",
       "      <td>1</td>\n",
       "    </tr>\n",
       "    <tr>\n",
       "      <th>4413</th>\n",
       "      <td>imponente la universidad, todo guanajuato es h...</td>\n",
       "      <td>lo que no me gusto fue la comida, pero es muy ...</td>\n",
       "      <td>Universidad de Guanajuato</td>\n",
       "      <td>Female</td>\n",
       "      <td>44</td>\n",
       "      <td>México</td>\n",
       "      <td>05/07/2015</td>\n",
       "      <td>1</td>\n",
       "    </tr>\n",
       "    <tr>\n",
       "      <th>4414</th>\n",
       "      <td>lugar magico</td>\n",
       "      <td>esta excelente para pasar a sentarse unos minu...</td>\n",
       "      <td>Jardín de la Unión</td>\n",
       "      <td>Male</td>\n",
       "      <td>-1</td>\n",
       "      <td>México</td>\n",
       "      <td>2018</td>\n",
       "      <td>1</td>\n",
       "    </tr>\n",
       "    <tr>\n",
       "      <th>4415</th>\n",
       "      <td>¡su fachada es hermosa!</td>\n",
       "      <td>no tuvimos la fortuna de entrar a verlo, ya qu...</td>\n",
       "      <td>Teatro Juárez</td>\n",
       "      <td>Female</td>\n",
       "      <td>47</td>\n",
       "      <td>México</td>\n",
       "      <td>22/10/2012</td>\n",
       "      <td>1</td>\n",
       "    </tr>\n",
       "    <tr>\n",
       "      <th>4416</th>\n",
       "      <td>momias en silencio</td>\n",
       "      <td>excelente cuidado de las momias y en museos, p...</td>\n",
       "      <td>Museo de las Momias</td>\n",
       "      <td>Female</td>\n",
       "      <td>20</td>\n",
       "      <td>Guatemala</td>\n",
       "      <td>17/05/2018</td>\n",
       "      <td>1</td>\n",
       "    </tr>\n",
       "  </tbody>\n",
       "</table>\n",
       "<p>4406 rows × 8 columns</p>\n",
       "</div>"
      ],
      "text/plain": [
       "                                                  Title  \\\n",
       "0                               no es para recomendarse   \n",
       "1     es un mercado tradicional, no es nada del otro...   \n",
       "2                                            no visitar   \n",
       "3       no le veo atractivo. a ver semejantes cacharros   \n",
       "4                                nada fuera de lo común   \n",
       "...                                                 ...   \n",
       "4412                             beautiful architecture   \n",
       "4413  imponente la universidad, todo guanajuato es h...   \n",
       "4414                                       lugar magico   \n",
       "4415                            ¡su fachada es hermosa!   \n",
       "4416                                 momias en silencio   \n",
       "\n",
       "                                                Opinion  \\\n",
       "0     las famosas momias de guanajuato. el museo en ...   \n",
       "1     allí puedes encontrar comida o souvenirs. es u...   \n",
       "2     es tardado entrar al museo, una vez dentro no ...   \n",
       "3     entiendo que a muchos les cautive o llamé la a...   \n",
       "4     la fruta y verdura son poco frescos, al igual ...   \n",
       "...                                                 ...   \n",
       "4412  this university is famous because of its beaut...   \n",
       "4413  lo que no me gusto fue la comida, pero es muy ...   \n",
       "4414  esta excelente para pasar a sentarse unos minu...   \n",
       "4415  no tuvimos la fortuna de entrar a verlo, ya qu...   \n",
       "4416  excelente cuidado de las momias y en museos, p...   \n",
       "\n",
       "                          Place  Gender  Age    Country        Date  Label  \n",
       "0           Museo de las Momias    Male   48     México  02/07/2013      0  \n",
       "1               Mercado Hidalgo    Male   52     México  06/09/2016      0  \n",
       "2           Museo de las Momias    Male   42     México  25/12/2017      0  \n",
       "3           Museo de las Momias  Female   24     México  14/08/2013      0  \n",
       "4               Mercado Hidalgo  Female   19     México  01/08/2017      0  \n",
       "...                         ...     ...  ...        ...         ...    ...  \n",
       "4412  Universidad de Guanajuato    Male   24     México  21/04/2014      1  \n",
       "4413  Universidad de Guanajuato  Female   44     México  05/07/2015      1  \n",
       "4414         Jardín de la Unión    Male   -1     México        2018      1  \n",
       "4415              Teatro Juárez  Female   47     México  22/10/2012      1  \n",
       "4416        Museo de las Momias  Female   20  Guatemala  17/05/2018      1  \n",
       "\n",
       "[4406 rows x 8 columns]"
      ]
     },
     "execution_count": 19,
     "metadata": {},
     "output_type": "execute_result"
    }
   ],
   "source": [
    "df_clean"
   ]
  },
  {
   "cell_type": "markdown",
   "metadata": {},
   "source": [
    "#### Detección de idioma"
   ]
  },
  {
   "cell_type": "code",
   "execution_count": 4,
   "metadata": {},
   "outputs": [],
   "source": [
    "# Función para detectar el idioma del texto\n",
    "def detectar_idioma(texto):\n",
    "    try:\n",
    "        return detect(texto)\n",
    "    except:\n",
    "        return 'unknown'\n",
    "\n",
    "# Crear una columna con el idioma detectado en la Opinión\n",
    "#df_clean['Lang'] = df_clean['Opinion'].apply(detectar_idioma)\n",
    "\n",
    "# Si el idioma es desconocido, se intenta detectar el idioma en el Título\n",
    "#df_clean['idioma'] = df_clean.apply(lambda x: detectar_idioma(x['Title']) if x['idioma'] == \"unknown\" else x['idioma'], axis=1)\n"
   ]
  },
  {
   "cell_type": "code",
   "execution_count": 21,
   "metadata": {},
   "outputs": [
    {
     "data": {
      "text/plain": [
       "Lang\n",
       "es         4384\n",
       "en           19\n",
       "unknown       2\n",
       "pt            1\n",
       "Name: count, dtype: int64"
      ]
     },
     "execution_count": 21,
     "metadata": {},
     "output_type": "execute_result"
    }
   ],
   "source": [
    "df_clean['Lang'].value_counts()"
   ]
  },
  {
   "cell_type": "code",
   "execution_count": 22,
   "metadata": {},
   "outputs": [
    {
     "data": {
      "text/html": [
       "<div>\n",
       "<style scoped>\n",
       "    .dataframe tbody tr th:only-of-type {\n",
       "        vertical-align: middle;\n",
       "    }\n",
       "\n",
       "    .dataframe tbody tr th {\n",
       "        vertical-align: top;\n",
       "    }\n",
       "\n",
       "    .dataframe thead th {\n",
       "        text-align: right;\n",
       "    }\n",
       "</style>\n",
       "<table border=\"1\" class=\"dataframe\">\n",
       "  <thead>\n",
       "    <tr style=\"text-align: right;\">\n",
       "      <th></th>\n",
       "      <th>Title</th>\n",
       "      <th>Opinion</th>\n",
       "      <th>Place</th>\n",
       "      <th>Gender</th>\n",
       "      <th>Age</th>\n",
       "      <th>Country</th>\n",
       "      <th>Date</th>\n",
       "      <th>Label</th>\n",
       "      <th>Lang</th>\n",
       "    </tr>\n",
       "  </thead>\n",
       "  <tbody>\n",
       "    <tr>\n",
       "      <th>1142</th>\n",
       "      <td>lugar lleno de historia</td>\n",
       "      <td></td>\n",
       "      <td>Alhóndiga</td>\n",
       "      <td>Male</td>\n",
       "      <td>-1</td>\n",
       "      <td>México</td>\n",
       "      <td>2019</td>\n",
       "      <td>1</td>\n",
       "      <td>unknown</td>\n",
       "    </tr>\n",
       "    <tr>\n",
       "      <th>3712</th>\n",
       "      <td>punto cental</td>\n",
       "      <td></td>\n",
       "      <td>Basilica Colegiata</td>\n",
       "      <td>Male</td>\n",
       "      <td>-1</td>\n",
       "      <td>Argentina</td>\n",
       "      <td>2018</td>\n",
       "      <td>1</td>\n",
       "      <td>unknown</td>\n",
       "    </tr>\n",
       "  </tbody>\n",
       "</table>\n",
       "</div>"
      ],
      "text/plain": [
       "                        Title Opinion               Place Gender  Age  \\\n",
       "1142  lugar lleno de historia                   Alhóndiga   Male   -1   \n",
       "3712             punto cental          Basilica Colegiata   Male   -1   \n",
       "\n",
       "        Country  Date  Label     Lang  \n",
       "1142     México  2019      1  unknown  \n",
       "3712  Argentina  2018      1  unknown  "
      ]
     },
     "execution_count": 22,
     "metadata": {},
     "output_type": "execute_result"
    }
   ],
   "source": [
    "df_clean[df_clean['Lang'] == 'unknown']"
   ]
  },
  {
   "cell_type": "markdown",
   "metadata": {},
   "source": [
    "Se seleccionan sólo opiniones en español"
   ]
  },
  {
   "cell_type": "code",
   "execution_count": 23,
   "metadata": {},
   "outputs": [
    {
     "data": {
      "text/plain": [
       "4384"
      ]
     },
     "execution_count": 23,
     "metadata": {},
     "output_type": "execute_result"
    }
   ],
   "source": [
    "df_final = df_clean[df_clean['Lang'] == 'es']\n",
    "len(df_final)"
   ]
  },
  {
   "cell_type": "markdown",
   "metadata": {},
   "source": [
    "#### Función eliminación de acentos"
   ]
  },
  {
   "cell_type": "code",
   "execution_count": 5,
   "metadata": {},
   "outputs": [],
   "source": [
    "def eliminar_acentos(texto):\n",
    "    # Normalizamos el texto a la forma 'NFD' que separa los caracteres Unicode y sus diacríticos\n",
    "    texto_normalizado = unicodedata.normalize('NFD', texto)\n",
    "    # Filtramos todos los caracteres que no sean diacríticos (es decir, eliminamos los acentos)\n",
    "    texto_sin_acentos = ''.join(c for c in texto_normalizado if unicodedata.category(c) != 'Mn')\n",
    "    return texto_sin_acentos"
   ]
  },
  {
   "cell_type": "markdown",
   "metadata": {},
   "source": [
    "#### Función para dejar solo letras y espacios, quitar caracteres extraños"
   ]
  },
  {
   "cell_type": "code",
   "execution_count": 7,
   "metadata": {},
   "outputs": [],
   "source": [
    "def eliminar_caracteres_especiales(texto):\n",
    "    #Utilizamos re.sub() para dejar solo las letras y los espacios\n",
    "    texto_solo_caracter = re.sub(r\"[^a-zA-Z\\s]\", \"\", texto)\n",
    "\n",
    "    return texto_solo_caracter"
   ]
  },
  {
   "cell_type": "markdown",
   "metadata": {},
   "source": [
    "#### Función para el preprocesamiento de los datos"
   ]
  },
  {
   "cell_type": "code",
   "execution_count": null,
   "metadata": {},
   "outputs": [],
   "source": [
    "def preprocesamiento(df, limpieza_extra = False):\n",
    "    \n",
    "    # Se sustituyen los valores nulos por un string vacío\n",
    "    df['Title'] = df['Title'].fillna('')\n",
    "    df['Opinion'] = df['Opinion'].fillna('')\n",
    "\n",
    "    # Eliminar duplicados\n",
    "    df_clean = df.drop_duplicates()\n",
    "    len(df_clean)\n",
    "\n",
    "    # Elminar triple comillas en textos\n",
    "    df_clean['Title'] = df_clean['Title'].str.strip('\"')\n",
    "    df_clean['Opinion'] = df_clean['Opinion'].str.strip('\"')\n",
    "\n",
    "    # Convertir a minúsculas\n",
    "    df_clean['Title'] = df_clean['Title'].str.lower()\n",
    "    df_clean['Opinion'] = df_clean['Opinion'].str.lower()\n",
    "\n",
    "    # Crear una columna con el idioma detectado en la Opinión\n",
    "    df_clean['Lang'] = df_clean['Opinion'].apply(detectar_idioma)\n",
    "\n",
    "    #Se seleccionan sólo opiniones en español\n",
    "    df_final = df_clean[df_clean['Lang'] == 'es']\n",
    "\n",
    "    if limpieza_extra:\n",
    "        # Eliminar acentos\n",
    "        df_final['Title'] = df_final['Title'].apply(eliminar_acentos)\n",
    "        df_final['Opinion'] = df_final['Opinion'].apply(eliminar_acentos)\n",
    "\n",
    "        # Eliminar caracteres especiales\n",
    "        df_final['Title'] = df_final['Title'].apply(eliminar_caracteres_especiales)\n",
    "        df_final['Opinion'] = df_final['Opinion'].apply(eliminar_caracteres_especiales)\n",
    "\n",
    "    return df_final"
   ]
  },
  {
   "cell_type": "markdown",
   "metadata": {},
   "source": [
    "#### Función para generar los archivos preprocesados"
   ]
  },
  {
   "cell_type": "code",
   "execution_count": null,
   "metadata": {},
   "outputs": [],
   "source": [
    "def genera_archivos(df):\n",
    "    train, val = train_test_split(df, test_size=0.2, stratify=df_final['Label'], random_state=42)\n",
    "    df_train = pd.DataFrame(train)\n",
    "    df_val = pd.DataFrame(val)\n",
    "\n",
    "    df_train.to_csv(\"../data/processed/train.csv\")\n",
    "    df_val.to_csv(\"../data/processed/val.csv\")"
   ]
  },
  {
   "cell_type": "code",
   "execution_count": null,
   "metadata": {},
   "outputs": [],
   "source": [
    "df_limpio = preprocesamiento(df, True)\n",
    "genera_archivos(df_limpio)"
   ]
  },
  {
   "cell_type": "markdown",
   "metadata": {},
   "source": [
    "### Separar conjunto de entrenamiento y validación"
   ]
  },
  {
   "cell_type": "code",
   "execution_count": 24,
   "metadata": {},
   "outputs": [
    {
     "data": {
      "text/plain": [
       "((3507, 9), (877, 9))"
      ]
     },
     "execution_count": 24,
     "metadata": {},
     "output_type": "execute_result"
    }
   ],
   "source": [
    "train, val = train_test_split(df_final, test_size=0.2, stratify=df_final['Label'], random_state=42)\n",
    "\n",
    "train.shape, val.shape"
   ]
  },
  {
   "cell_type": "markdown",
   "metadata": {},
   "source": [
    "### Guardar en CSV"
   ]
  },
  {
   "cell_type": "code",
   "execution_count": 26,
   "metadata": {},
   "outputs": [],
   "source": [
    "df_train = pd.DataFrame(train)\n",
    "df_val = pd.DataFrame(val)\n",
    "\n",
    "df_train.to_csv(\"../data/processed/train.csv\")\n",
    "df_val.to_csv(\"../data/processed/val.csv\")"
   ]
  }
 ],
 "metadata": {
  "kernelspec": {
   "display_name": "Python 3",
   "language": "python",
   "name": "python3"
  },
  "language_info": {
   "codemirror_mode": {
    "name": "ipython",
    "version": 3
   },
   "file_extension": ".py",
   "mimetype": "text/x-python",
   "name": "python",
   "nbconvert_exporter": "python",
   "pygments_lexer": "ipython3",
   "version": "3.12.0"
  }
 },
 "nbformat": 4,
 "nbformat_minor": 2
}
